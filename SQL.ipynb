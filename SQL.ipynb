{
  "nbformat": 4,
  "nbformat_minor": 0,
  "metadata": {
    "colab": {
      "provenance": [],
      "collapsed_sections": [],
      "include_colab_link": true
    },
    "kernelspec": {
      "name": "python3",
      "display_name": "Python 3"
    },
    "language_info": {
      "name": "python"
    }
  },
  "cells": [
    {
      "cell_type": "markdown",
      "metadata": {
        "id": "view-in-github",
        "colab_type": "text"
      },
      "source": [
        "<a href=\"https://colab.research.google.com/github/GregoDs/DSassignment.ecommerce/blob/main/SQL.ipynb\" target=\"_parent\"><img src=\"https://colab.research.google.com/assets/colab-badge.svg\" alt=\"Open In Colab\"/></a>"
      ]
    },
    {
      "cell_type": "markdown",
      "source": [
        "# SQL \n",
        "\n",
        "\n",
        "*   Structured Query Language (SQL) is the language that is used to store, manipulate and retrieve data from many databases. It is the standard language for many relational database management systems which are a type of databases used by organisations across the world. These type of relational database management systems are used to store data in tables and examples of such include SQLite, MySQL, Postgres, Oracle etc\n",
        "\n",
        "## Objectives\n",
        "\n",
        "*    learn how tables in databases are created\n",
        "*  learn how the structure of tables is defined \n",
        "\n",
        " The better the structure, the easier it becomes to clean data.\n",
        "\n",
        "\n"
      ],
      "metadata": {
        "id": "Sl1TTbNRr3Ly"
      }
    },
    {
      "cell_type": "code",
      "execution_count": 6,
      "metadata": {
        "id": "E2Co2MxnrV2O"
      },
      "outputs": [],
      "source": [
        "%load_ext sql"
      ]
    },
    {
      "cell_type": "code",
      "source": [
        "%sql sqlite://"
      ],
      "metadata": {
        "colab": {
          "base_uri": "https://localhost:8080/",
          "height": 36
        },
        "id": "CZcJywGRtCfl",
        "outputId": "f50bf1c7-8984-4d94-8e29-2f9e6e8dca17"
      },
      "execution_count": 7,
      "outputs": [
        {
          "output_type": "execute_result",
          "data": {
            "text/plain": [
              "'Connected: @None'"
            ],
            "application/vnd.google.colaboratory.intrinsic+json": {
              "type": "string"
            }
          },
          "metadata": {},
          "execution_count": 7
        }
      ]
    },
    {
      "cell_type": "code",
      "source": [
        "## Creating table\n",
        "\n",
        "%%sql\n",
        "CREATE TABLE IF NOT EXISTS Shop_stock (\n",
        "  ItemID,\n",
        "  ItemName,\n",
        "  Price,\n",
        "  Exp_Date,\n",
        "  Stock_Available\n",
        ");\n",
        "\n",
        "SELECT * from Shop_stock;"
      ],
      "metadata": {
        "colab": {
          "base_uri": "https://localhost:8080/",
          "height": 92
        },
        "id": "YkSZJ5LstQlF",
        "outputId": "0e3e1f7a-3465-4095-aa15-689d78e9296f"
      },
      "execution_count": null,
      "outputs": [
        {
          "output_type": "stream",
          "name": "stdout",
          "text": [
            " * sqlite://\n",
            "Done.\n",
            "Done.\n"
          ]
        },
        {
          "output_type": "execute_result",
          "data": {
            "text/plain": [
              "[]"
            ],
            "text/html": [
              "<table>\n",
              "    <thead>\n",
              "        <tr>\n",
              "            <th>ItemID</th>\n",
              "            <th>ItemName</th>\n",
              "            <th>Price</th>\n",
              "            <th>Exp_Date</th>\n",
              "            <th>Stock_Available</th>\n",
              "        </tr>\n",
              "    </thead>\n",
              "    <tbody>\n",
              "    </tbody>\n",
              "</table>"
            ]
          },
          "metadata": {},
          "execution_count": 11
        }
      ]
    },
    {
      "cell_type": "code",
      "source": [
        "%%sql\n",
        "CREATE TABLE IF NOT EXISTS Shop (ItemID,ItemName,Price,Exp_Date,Stock_Available\n",
        ");\n",
        "\n",
        "SELECT * from Shop_stock;"
      ],
      "metadata": {
        "colab": {
          "base_uri": "https://localhost:8080/",
          "height": 92
        },
        "id": "gCfl3IU_wZmV",
        "outputId": "3c6c0ef3-5f96-4d1f-edc7-55d0e4773055"
      },
      "execution_count": null,
      "outputs": [
        {
          "output_type": "stream",
          "name": "stdout",
          "text": [
            " * sqlite://\n",
            "Done.\n",
            "Done.\n"
          ]
        },
        {
          "output_type": "execute_result",
          "data": {
            "text/plain": [
              "[]"
            ],
            "text/html": [
              "<table>\n",
              "    <thead>\n",
              "        <tr>\n",
              "            <th>ItemID</th>\n",
              "            <th>ItemName</th>\n",
              "            <th>Price</th>\n",
              "            <th>Exp_Date</th>\n",
              "            <th>Stock_Available</th>\n",
              "        </tr>\n",
              "    </thead>\n",
              "    <tbody>\n",
              "    </tbody>\n",
              "</table>"
            ]
          },
          "metadata": {},
          "execution_count": 12
        }
      ]
    },
    {
      "cell_type": "code",
      "source": [
        "## Specifying Column Data Types\n",
        "\n",
        "%%sql\n",
        "CREATE TABLE IF NOT EXISTS Citizens (\n",
        "  NationalID int,\n",
        "  FirstName varchar(20),\n",
        "  LastName varchar(20),\n",
        "  Address varchar(100)\n",
        ");\n",
        "\n",
        "SELECT * from Citizens;"
      ],
      "metadata": {
        "colab": {
          "base_uri": "https://localhost:8080/",
          "height": 92
        },
        "id": "MS3Wl9gmyYSJ",
        "outputId": "72586b25-9fc6-4200-ac7b-1d222977aa4b"
      },
      "execution_count": null,
      "outputs": [
        {
          "output_type": "stream",
          "name": "stdout",
          "text": [
            " * sqlite://\n",
            "Done.\n",
            "Done.\n"
          ]
        },
        {
          "output_type": "execute_result",
          "data": {
            "text/plain": [
              "[]"
            ],
            "text/html": [
              "<table>\n",
              "    <thead>\n",
              "        <tr>\n",
              "            <th>NationalID</th>\n",
              "            <th>FirstName</th>\n",
              "            <th>LastName</th>\n",
              "            <th>Address</th>\n",
              "        </tr>\n",
              "    </thead>\n",
              "    <tbody>\n",
              "    </tbody>\n",
              "</table>"
            ]
          },
          "metadata": {},
          "execution_count": 13
        }
      ]
    },
    {
      "cell_type": "code",
      "source": [
        "## int,varchar,datetime,boolean,text,float"
      ],
      "metadata": {
        "id": "rhQWsAX-00lB"
      },
      "execution_count": null,
      "outputs": []
    },
    {
      "cell_type": "code",
      "source": [
        "%%sql\n",
        "CREATE TABLE IF NOT EXISTS Books(\n",
        "  ReleaseDate date,\n",
        "  Author text,\n",
        "  Book_Title varchar(255),\n",
        "  Caregory varchar(255),\n",
        "  Rating varchar(255)\n",
        ");\n",
        "\n",
        "Select * from Books"
      ],
      "metadata": {
        "id": "CdP432oN1YsC",
        "colab": {
          "base_uri": "https://localhost:8080/",
          "height": 92
        },
        "outputId": "5ae2b7e1-a708-47d7-87c8-5c9ddf33d51a"
      },
      "execution_count": null,
      "outputs": [
        {
          "output_type": "stream",
          "name": "stdout",
          "text": [
            " * sqlite://\n",
            "Done.\n",
            "Done.\n"
          ]
        },
        {
          "output_type": "execute_result",
          "data": {
            "text/plain": [
              "[]"
            ],
            "text/html": [
              "<table>\n",
              "    <thead>\n",
              "        <tr>\n",
              "            <th>ReleaseDate</th>\n",
              "            <th>Author</th>\n",
              "            <th>Book_Title</th>\n",
              "            <th>Caregory</th>\n",
              "            <th>Rating</th>\n",
              "        </tr>\n",
              "    </thead>\n",
              "    <tbody>\n",
              "    </tbody>\n",
              "</table>"
            ]
          },
          "metadata": {},
          "execution_count": 17
        }
      ]
    },
    {
      "cell_type": "code",
      "source": [
        "# Let's create a table customer with CustID with datatype Integer, LastName \n",
        "# with datatype character(25), FirstName with datatype Character(20),Pay as type float\n"
      ],
      "metadata": {
        "id": "Y_6Hv6aW3dUE"
      },
      "execution_count": null,
      "outputs": []
    },
    {
      "cell_type": "code",
      "source": [
        "# Create a table called employees that stores employee number, employee name, \n",
        "# department, and salary information using appropriate data types\n",
        "#"
      ],
      "metadata": {
        "id": "3D3Hq9Dw4Tzv"
      },
      "execution_count": null,
      "outputs": []
    },
    {
      "cell_type": "code",
      "source": [
        "# create alcoholic drinks survey table\n",
        "%%sql\n",
        "Create table if not exists Participants(\n",
        "  id int,\n",
        "  ParticipantsName text,\n",
        "  age int DEFAULT 18,\n",
        "  Opinion text\n",
        ");"
      ],
      "metadata": {
        "colab": {
          "base_uri": "https://localhost:8080/"
        },
        "id": "jIa_TiqU6K1A",
        "outputId": "baea8d02-db32-4afa-cda5-e6b5a18834f5"
      },
      "execution_count": null,
      "outputs": [
        {
          "output_type": "stream",
          "name": "stdout",
          "text": [
            " * sqlite://\n",
            "Done.\n"
          ]
        },
        {
          "output_type": "execute_result",
          "data": {
            "text/plain": [
              "[]"
            ]
          },
          "metadata": {},
          "execution_count": 18
        }
      ]
    },
    {
      "cell_type": "code",
      "source": [
        "%%sql\n",
        "CREATE TABLE IF NOT EXISTS students ( \n",
        "  id varchar(20),\n",
        "  StudentName varchar(20),\n",
        "  Age int DEFAULT 'Unkwown'\n",
        ");\n",
        "Select * from students;"
      ],
      "metadata": {
        "colab": {
          "base_uri": "https://localhost:8080/",
          "height": 92
        },
        "id": "h9fTUMxI7kAA",
        "outputId": "cde71a53-ccad-44c2-8f63-00d75f7c4712"
      },
      "execution_count": null,
      "outputs": [
        {
          "output_type": "stream",
          "name": "stdout",
          "text": [
            " * sqlite://\n",
            "Done.\n",
            "Done.\n"
          ]
        },
        {
          "output_type": "execute_result",
          "data": {
            "text/plain": [
              "[]"
            ],
            "text/html": [
              "<table>\n",
              "    <thead>\n",
              "        <tr>\n",
              "            <th>id</th>\n",
              "            <th>StudentName</th>\n",
              "            <th>Age</th>\n",
              "        </tr>\n",
              "    </thead>\n",
              "    <tbody>\n",
              "    </tbody>\n",
              "</table>"
            ]
          },
          "metadata": {},
          "execution_count": 3
        }
      ]
    },
    {
      "cell_type": "code",
      "source": [
        "# Let's create a new table called restaurants with the fields\n",
        "# - name: string\n",
        "# - description: text \n",
        "# - address: string, default value is unknown\n",
        "# - user_id: integer\n",
        "# - last_orders_at: date"
      ],
      "metadata": {
        "id": "wZ51PI1c8lIn"
      },
      "execution_count": null,
      "outputs": []
    },
    {
      "cell_type": "code",
      "source": [
        "# Altering SQL table\n",
        "\n",
        "%%sql\n",
        "ALTER TABLE  students ADD Gender;\n",
        "\n",
        "Select * from students;"
      ],
      "metadata": {
        "colab": {
          "base_uri": "https://localhost:8080/",
          "height": 92
        },
        "id": "mwmBw6wK-zq4",
        "outputId": "3ca9ab08-73e4-41fe-8e44-dd7a495b57c0"
      },
      "execution_count": null,
      "outputs": [
        {
          "output_type": "stream",
          "name": "stdout",
          "text": [
            " * sqlite://\n",
            "Done.\n",
            "Done.\n"
          ]
        },
        {
          "output_type": "execute_result",
          "data": {
            "text/plain": [
              "[]"
            ],
            "text/html": [
              "<table>\n",
              "    <thead>\n",
              "        <tr>\n",
              "            <th>id</th>\n",
              "            <th>StudentName</th>\n",
              "            <th>Age</th>\n",
              "            <th>Students</th>\n",
              "            <th>Gender</th>\n",
              "        </tr>\n",
              "    </thead>\n",
              "    <tbody>\n",
              "    </tbody>\n",
              "</table>"
            ]
          },
          "metadata": {},
          "execution_count": 6
        }
      ]
    },
    {
      "cell_type": "code",
      "source": [
        "%%sql\n",
        "ALTER TABLE students DROP COLUMN Age;\n",
        "\n",
        "Select * from students;"
      ],
      "metadata": {
        "colab": {
          "base_uri": "https://localhost:8080/"
        },
        "id": "tWkqZYuXAd58",
        "outputId": "9d712f21-27dd-4b44-9088-c03dce94a66e"
      },
      "execution_count": null,
      "outputs": [
        {
          "output_type": "stream",
          "name": "stdout",
          "text": [
            " * sqlite://\n",
            "(sqlite3.OperationalError) near \"DROP\": syntax error\n",
            "[SQL: ALTER TABLE students DROP COLUMN Age;]\n",
            "(Background on this error at: https://sqlalche.me/e/14/e3q8)\n"
          ]
        }
      ]
    },
    {
      "cell_type": "code",
      "source": [
        "%%sql\n",
        "ALTER TABLE students RENAME TO School;\n",
        "\n",
        "Select * from School;"
      ],
      "metadata": {
        "colab": {
          "base_uri": "https://localhost:8080/",
          "height": 92
        },
        "id": "q2xYjZDPA1IR",
        "outputId": "0722c92b-019a-45a3-b037-bd60a9cf6ba3"
      },
      "execution_count": null,
      "outputs": [
        {
          "output_type": "stream",
          "name": "stdout",
          "text": [
            " * sqlite://\n",
            "Done.\n",
            "Done.\n"
          ]
        },
        {
          "output_type": "execute_result",
          "data": {
            "text/plain": [
              "[]"
            ],
            "text/html": [
              "<table>\n",
              "    <thead>\n",
              "        <tr>\n",
              "            <th>id</th>\n",
              "            <th>StudentName</th>\n",
              "            <th>Age</th>\n",
              "            <th>Students</th>\n",
              "            <th>Gender</th>\n",
              "        </tr>\n",
              "    </thead>\n",
              "    <tbody>\n",
              "    </tbody>\n",
              "</table>"
            ]
          },
          "metadata": {},
          "execution_count": 10
        }
      ]
    },
    {
      "cell_type": "code",
      "source": [
        "# Create a table TeamMembers id,name,age (default value),gender\n",
        "# add a column DOB "
      ],
      "metadata": {
        "id": "FHsC6AmjCCDQ"
      },
      "execution_count": null,
      "outputs": []
    },
    {
      "cell_type": "code",
      "source": [
        "#rename table from books to stocks\n",
        "%%sql\n",
        "CREATE TABLE IF NOT EXISTS Books(\n",
        "  ReleaseDate date,\n",
        "  Author text,\n",
        "  Book_Title varchar(255),\n",
        "  Caregory varchar(255),\n",
        "  Rating varchar(255)\n",
        ");\n",
        "\n",
        "Select * from Books"
      ],
      "metadata": {
        "id": "fz7CS6UzD6FR"
      },
      "execution_count": null,
      "outputs": []
    },
    {
      "cell_type": "markdown",
      "source": [
        "## Selecting & Retrieving Data with Sql\n"
      ],
      "metadata": {
        "id": "gTrAhujkIafW"
      }
    },
    {
      "cell_type": "code",
      "source": [
        "import csv\n",
        "import pandas as pd"
      ],
      "metadata": {
        "id": "dBDzzx1EFmAq"
      },
      "execution_count": 11,
      "outputs": []
    },
    {
      "cell_type": "code",
      "source": [
        "with open('/content/Countries.csv','r') as Countries:\n",
        "  Interpol = pd.read_csv(Countries,encoding='utf-8')\n",
        "\n",
        "%sql DROP TABLE IF EXISTS Interpol;\n",
        "%sql PERSIST Interpol;"
      ],
      "metadata": {
        "colab": {
          "base_uri": "https://localhost:8080/",
          "height": 88
        },
        "id": "X5C3KKVMJPXS",
        "outputId": "4c0afcc7-c437-409a-daae-e5fc34437926"
      },
      "execution_count": 13,
      "outputs": [
        {
          "output_type": "stream",
          "name": "stdout",
          "text": [
            " * sqlite://\n",
            "Done.\n",
            " * sqlite://\n"
          ]
        },
        {
          "output_type": "execute_result",
          "data": {
            "text/plain": [
              "'Persisted interpol'"
            ],
            "application/vnd.google.colaboratory.intrinsic+json": {
              "type": "string"
            }
          },
          "metadata": {},
          "execution_count": 13
        }
      ]
    },
    {
      "cell_type": "code",
      "source": [
        "with open('/content/WorldCup.csv','r') as WC:\n",
        "  WorldCup = pd.read_csv(WC,encoding='utf-8')\n",
        "\n",
        "%sql DROP TABLE IF EXISTS WorldCup;\n",
        "%sql PERSIST WorldCup;"
      ],
      "metadata": {
        "colab": {
          "base_uri": "https://localhost:8080/",
          "height": 88
        },
        "id": "QM6g1h5GKWUS",
        "outputId": "b5da38fe-0524-45fc-ff07-06d3b7803068"
      },
      "execution_count": 14,
      "outputs": [
        {
          "output_type": "stream",
          "name": "stdout",
          "text": [
            " * sqlite://\n",
            "Done.\n",
            " * sqlite://\n"
          ]
        },
        {
          "output_type": "execute_result",
          "data": {
            "text/plain": [
              "'Persisted worldcup'"
            ],
            "application/vnd.google.colaboratory.intrinsic+json": {
              "type": "string"
            }
          },
          "metadata": {},
          "execution_count": 14
        }
      ]
    },
    {
      "cell_type": "code",
      "source": [
        "%sql SELECT * from Interpol limit 5"
      ],
      "metadata": {
        "colab": {
          "base_uri": "https://localhost:8080/",
          "height": 177
        },
        "id": "bP8e1kctLanG",
        "outputId": "1f017bcf-dca8-40c5-f42c-1520bde3b4ba"
      },
      "execution_count": 15,
      "outputs": [
        {
          "output_type": "stream",
          "name": "stdout",
          "text": [
            " * sqlite://\n",
            "Done.\n"
          ]
        },
        {
          "output_type": "execute_result",
          "data": {
            "text/plain": [
              "[(0, 'Albania', 3, 3, 0, 'Europe', 'http://www.crwflags.com/fotw/images/a/al.gif'),\n",
              " (1, 'Angola', 0, 0, 1, 'Northern Africa', 'http://www.crwflags.com/fotw/images/a/ao.gif'),\n",
              " (2, 'Argentina', 2, 2, 1, 'South America', 'http://www.crwflags.com/fotw/images/a/ar.gif'),\n",
              " (3, 'Australia', 1, 1, 2, 'Oceania', 'http://www.crwflags.com/fotw/images/a/au.gif'),\n",
              " (4, 'Austria', 1, 1, 0, 'Europe', 'http://www.crwflags.com/fotw/images/a/at.gif')]"
            ],
            "text/html": [
              "<table>\n",
              "    <thead>\n",
              "        <tr>\n",
              "            <th>index</th>\n",
              "            <th>Country</th>\n",
              "            <th>National Fugitives</th>\n",
              "            <th>Wanted Fugitives</th>\n",
              "            <th>Possible Hosted Fugitives / Captured Fugitives</th>\n",
              "            <th>Region</th>\n",
              "            <th>Flag</th>\n",
              "        </tr>\n",
              "    </thead>\n",
              "    <tbody>\n",
              "        <tr>\n",
              "            <td>0</td>\n",
              "            <td>Albania</td>\n",
              "            <td>3</td>\n",
              "            <td>3</td>\n",
              "            <td>0</td>\n",
              "            <td>Europe</td>\n",
              "            <td>http://www.crwflags.com/fotw/images/a/al.gif</td>\n",
              "        </tr>\n",
              "        <tr>\n",
              "            <td>1</td>\n",
              "            <td>Angola</td>\n",
              "            <td>0</td>\n",
              "            <td>0</td>\n",
              "            <td>1</td>\n",
              "            <td>Northern Africa</td>\n",
              "            <td>http://www.crwflags.com/fotw/images/a/ao.gif</td>\n",
              "        </tr>\n",
              "        <tr>\n",
              "            <td>2</td>\n",
              "            <td>Argentina</td>\n",
              "            <td>2</td>\n",
              "            <td>2</td>\n",
              "            <td>1</td>\n",
              "            <td>South America</td>\n",
              "            <td>http://www.crwflags.com/fotw/images/a/ar.gif</td>\n",
              "        </tr>\n",
              "        <tr>\n",
              "            <td>3</td>\n",
              "            <td>Australia</td>\n",
              "            <td>1</td>\n",
              "            <td>1</td>\n",
              "            <td>2</td>\n",
              "            <td>Oceania</td>\n",
              "            <td>http://www.crwflags.com/fotw/images/a/au.gif</td>\n",
              "        </tr>\n",
              "        <tr>\n",
              "            <td>4</td>\n",
              "            <td>Austria</td>\n",
              "            <td>1</td>\n",
              "            <td>1</td>\n",
              "            <td>0</td>\n",
              "            <td>Europe</td>\n",
              "            <td>http://www.crwflags.com/fotw/images/a/at.gif</td>\n",
              "        </tr>\n",
              "    </tbody>\n",
              "</table>"
            ]
          },
          "metadata": {},
          "execution_count": 15
        }
      ]
    },
    {
      "cell_type": "code",
      "source": [
        "%sql SELECT * from WorldCup limit 5"
      ],
      "metadata": {
        "colab": {
          "base_uri": "https://localhost:8080/",
          "height": 370
        },
        "id": "GGJD4ytxLs5y",
        "outputId": "0e27a9de-1e0e-49b5-f42b-2a86b5b4fb56"
      },
      "execution_count": 16,
      "outputs": [
        {
          "output_type": "stream",
          "name": "stdout",
          "text": [
            " * sqlite://\n",
            "Done.\n"
          ]
        },
        {
          "output_type": "execute_result",
          "data": {
            "text/plain": [
              "[(0, 1930, '13 Jul 1930 - 15:00 ', 'Group 1', 'Pocitos', 'Montevideo ', 'France', 4, 1, 'Mexico', ' ', 4444.0, 3, 0, 'LOMBARDI Domingo (URU)', 'CRISTOPHE Henry (BEL)', 'REGO Gilberto (BRA)', 201, 1096, 'FRA', 'MEX'),\n",
              " (1, 1930, '13 Jul 1930 - 15:00 ', 'Group 4', 'Parque Central', 'Montevideo ', 'USA', 3, 0, 'Belgium', ' ', 18346.0, 2, 0, 'MACIAS Jose (ARG)', 'MATEUCCI Francisco (URU)', 'WARNKEN Alberto (CHI)', 201, 1090, 'USA', 'BEL'),\n",
              " (2, 1930, '14 Jul 1930 - 12:45 ', 'Group 2', 'Parque Central', 'Montevideo ', 'Yugoslavia', 2, 1, 'Brazil', ' ', 24059.0, 2, 0, 'TEJADA Anibal (URU)', 'VALLARINO Ricardo (URU)', 'BALWAY Thomas (FRA)', 201, 1093, 'YUG', 'BRA'),\n",
              " (3, 1930, '14 Jul 1930 - 14:50 ', 'Group 3', 'Pocitos', 'Montevideo ', 'Romania', 3, 1, 'Peru', ' ', 2549.0, 1, 0, 'WARNKEN Alberto (CHI)', 'LANGENUS Jean (BEL)', 'MATEUCCI Francisco (URU)', 201, 1098, 'ROU', 'PER'),\n",
              " (4, 1930, '15 Jul 1930 - 16:00 ', 'Group 1', 'Parque Central', 'Montevideo ', 'Argentina', 1, 0, 'France', ' ', 23409.0, 0, 0, 'REGO Gilberto (BRA)', 'SAUCEDO Ulises (BOL)', 'RADULESCU Constantin (ROU)', 201, 1085, 'ARG', 'FRA')]"
            ],
            "text/html": [
              "<table>\n",
              "    <thead>\n",
              "        <tr>\n",
              "            <th>index</th>\n",
              "            <th>Year</th>\n",
              "            <th>Datetime</th>\n",
              "            <th>Stage</th>\n",
              "            <th>Stadium</th>\n",
              "            <th>City</th>\n",
              "            <th>Home_Team_Name</th>\n",
              "            <th>Home_Team_Goals</th>\n",
              "            <th>Away_Team_Goals</th>\n",
              "            <th>Away_Team_Name</th>\n",
              "            <th>Win_conditions</th>\n",
              "            <th>Attendance</th>\n",
              "            <th>Halftime_Home_Goals</th>\n",
              "            <th>Halftime_Away_Goals</th>\n",
              "            <th>Referee</th>\n",
              "            <th>Assistant1</th>\n",
              "            <th>Assistant2</th>\n",
              "            <th>RoundID</th>\n",
              "            <th>MatchID</th>\n",
              "            <th>Home_Team_Initials</th>\n",
              "            <th>Away_Team_Initials</th>\n",
              "        </tr>\n",
              "    </thead>\n",
              "    <tbody>\n",
              "        <tr>\n",
              "            <td>0</td>\n",
              "            <td>1930</td>\n",
              "            <td>13 Jul 1930 - 15:00 </td>\n",
              "            <td>Group 1</td>\n",
              "            <td>Pocitos</td>\n",
              "            <td>Montevideo </td>\n",
              "            <td>France</td>\n",
              "            <td>4</td>\n",
              "            <td>1</td>\n",
              "            <td>Mexico</td>\n",
              "            <td> </td>\n",
              "            <td>4444.0</td>\n",
              "            <td>3</td>\n",
              "            <td>0</td>\n",
              "            <td>LOMBARDI Domingo (URU)</td>\n",
              "            <td>CRISTOPHE Henry (BEL)</td>\n",
              "            <td>REGO Gilberto (BRA)</td>\n",
              "            <td>201</td>\n",
              "            <td>1096</td>\n",
              "            <td>FRA</td>\n",
              "            <td>MEX</td>\n",
              "        </tr>\n",
              "        <tr>\n",
              "            <td>1</td>\n",
              "            <td>1930</td>\n",
              "            <td>13 Jul 1930 - 15:00 </td>\n",
              "            <td>Group 4</td>\n",
              "            <td>Parque Central</td>\n",
              "            <td>Montevideo </td>\n",
              "            <td>USA</td>\n",
              "            <td>3</td>\n",
              "            <td>0</td>\n",
              "            <td>Belgium</td>\n",
              "            <td> </td>\n",
              "            <td>18346.0</td>\n",
              "            <td>2</td>\n",
              "            <td>0</td>\n",
              "            <td>MACIAS Jose (ARG)</td>\n",
              "            <td>MATEUCCI Francisco (URU)</td>\n",
              "            <td>WARNKEN Alberto (CHI)</td>\n",
              "            <td>201</td>\n",
              "            <td>1090</td>\n",
              "            <td>USA</td>\n",
              "            <td>BEL</td>\n",
              "        </tr>\n",
              "        <tr>\n",
              "            <td>2</td>\n",
              "            <td>1930</td>\n",
              "            <td>14 Jul 1930 - 12:45 </td>\n",
              "            <td>Group 2</td>\n",
              "            <td>Parque Central</td>\n",
              "            <td>Montevideo </td>\n",
              "            <td>Yugoslavia</td>\n",
              "            <td>2</td>\n",
              "            <td>1</td>\n",
              "            <td>Brazil</td>\n",
              "            <td> </td>\n",
              "            <td>24059.0</td>\n",
              "            <td>2</td>\n",
              "            <td>0</td>\n",
              "            <td>TEJADA Anibal (URU)</td>\n",
              "            <td>VALLARINO Ricardo (URU)</td>\n",
              "            <td>BALWAY Thomas (FRA)</td>\n",
              "            <td>201</td>\n",
              "            <td>1093</td>\n",
              "            <td>YUG</td>\n",
              "            <td>BRA</td>\n",
              "        </tr>\n",
              "        <tr>\n",
              "            <td>3</td>\n",
              "            <td>1930</td>\n",
              "            <td>14 Jul 1930 - 14:50 </td>\n",
              "            <td>Group 3</td>\n",
              "            <td>Pocitos</td>\n",
              "            <td>Montevideo </td>\n",
              "            <td>Romania</td>\n",
              "            <td>3</td>\n",
              "            <td>1</td>\n",
              "            <td>Peru</td>\n",
              "            <td> </td>\n",
              "            <td>2549.0</td>\n",
              "            <td>1</td>\n",
              "            <td>0</td>\n",
              "            <td>WARNKEN Alberto (CHI)</td>\n",
              "            <td>LANGENUS Jean (BEL)</td>\n",
              "            <td>MATEUCCI Francisco (URU)</td>\n",
              "            <td>201</td>\n",
              "            <td>1098</td>\n",
              "            <td>ROU</td>\n",
              "            <td>PER</td>\n",
              "        </tr>\n",
              "        <tr>\n",
              "            <td>4</td>\n",
              "            <td>1930</td>\n",
              "            <td>15 Jul 1930 - 16:00 </td>\n",
              "            <td>Group 1</td>\n",
              "            <td>Parque Central</td>\n",
              "            <td>Montevideo </td>\n",
              "            <td>Argentina</td>\n",
              "            <td>1</td>\n",
              "            <td>0</td>\n",
              "            <td>France</td>\n",
              "            <td> </td>\n",
              "            <td>23409.0</td>\n",
              "            <td>0</td>\n",
              "            <td>0</td>\n",
              "            <td>REGO Gilberto (BRA)</td>\n",
              "            <td>SAUCEDO Ulises (BOL)</td>\n",
              "            <td>RADULESCU Constantin (ROU)</td>\n",
              "            <td>201</td>\n",
              "            <td>1085</td>\n",
              "            <td>ARG</td>\n",
              "            <td>FRA</td>\n",
              "        </tr>\n",
              "    </tbody>\n",
              "</table>"
            ]
          },
          "metadata": {},
          "execution_count": 16
        }
      ]
    },
    {
      "cell_type": "code",
      "source": [],
      "metadata": {
        "id": "Ykf1cf8NMO5X"
      },
      "execution_count": null,
      "outputs": []
    },
    {
      "cell_type": "markdown",
      "source": [
        "### Selecting Single Columns"
      ],
      "metadata": {
        "id": "iF7jkZG7MS_M"
      }
    },
    {
      "cell_type": "code",
      "source": [
        "%%sql\n",
        "\n",
        "Select  Region From Interpol limit 10;\n"
      ],
      "metadata": {
        "colab": {
          "base_uri": "https://localhost:8080/",
          "height": 280
        },
        "id": "ZPcDgQvxL32C",
        "outputId": "a251391f-ff67-4ee2-f527-8049cd15c0d8"
      },
      "execution_count": 17,
      "outputs": [
        {
          "output_type": "stream",
          "name": "stdout",
          "text": [
            " * sqlite://\n",
            "Done.\n"
          ]
        },
        {
          "output_type": "execute_result",
          "data": {
            "text/plain": [
              "[('Europe',),\n",
              " ('Northern Africa',),\n",
              " ('South America',),\n",
              " ('Oceania',),\n",
              " ('Europe',),\n",
              " ('Asia',),\n",
              " ('Europe',),\n",
              " ('Europe',),\n",
              " ('Central America',),\n",
              " ('South America',)]"
            ],
            "text/html": [
              "<table>\n",
              "    <thead>\n",
              "        <tr>\n",
              "            <th>Region</th>\n",
              "        </tr>\n",
              "    </thead>\n",
              "    <tbody>\n",
              "        <tr>\n",
              "            <td>Europe</td>\n",
              "        </tr>\n",
              "        <tr>\n",
              "            <td>Northern Africa</td>\n",
              "        </tr>\n",
              "        <tr>\n",
              "            <td>South America</td>\n",
              "        </tr>\n",
              "        <tr>\n",
              "            <td>Oceania</td>\n",
              "        </tr>\n",
              "        <tr>\n",
              "            <td>Europe</td>\n",
              "        </tr>\n",
              "        <tr>\n",
              "            <td>Asia</td>\n",
              "        </tr>\n",
              "        <tr>\n",
              "            <td>Europe</td>\n",
              "        </tr>\n",
              "        <tr>\n",
              "            <td>Europe</td>\n",
              "        </tr>\n",
              "        <tr>\n",
              "            <td>Central America</td>\n",
              "        </tr>\n",
              "        <tr>\n",
              "            <td>South America</td>\n",
              "        </tr>\n",
              "    </tbody>\n",
              "</table>"
            ]
          },
          "metadata": {},
          "execution_count": 17
        }
      ]
    },
    {
      "cell_type": "code",
      "source": [
        "%%sql\n",
        "Select Region From Interpol WHERE 'National Fugitives' = 0"
      ],
      "metadata": {
        "colab": {
          "base_uri": "https://localhost:8080/",
          "height": 74
        },
        "id": "EFRtgHwEMnpd",
        "outputId": "e261d294-052b-48c8-ad4a-35254429ab8a"
      },
      "execution_count": 25,
      "outputs": [
        {
          "output_type": "stream",
          "name": "stdout",
          "text": [
            " * sqlite://\n",
            "Done.\n"
          ]
        },
        {
          "output_type": "execute_result",
          "data": {
            "text/plain": [
              "[]"
            ],
            "text/html": [
              "<table>\n",
              "    <thead>\n",
              "        <tr>\n",
              "            <th>Region</th>\n",
              "        </tr>\n",
              "    </thead>\n",
              "    <tbody>\n",
              "    </tbody>\n",
              "</table>"
            ]
          },
          "metadata": {},
          "execution_count": 25
        }
      ]
    },
    {
      "cell_type": "code",
      "source": [
        "%%sql\n",
        "Select Country FROM Interpol WHERE 'National Fugitives' = 0 AND Region = 'Europe'"
      ],
      "metadata": {
        "colab": {
          "base_uri": "https://localhost:8080/"
        },
        "id": "Q4QJAS_HQB1q",
        "outputId": "b56a522b-90f3-464c-8946-6eb2e415958f"
      },
      "execution_count": 10,
      "outputs": [
        {
          "output_type": "stream",
          "name": "stdout",
          "text": [
            " * sqlite://\n",
            "(sqlite3.OperationalError) no such table: Interpol\n",
            "[SQL: Select Country FROM Interpol WHERE 'National Fugitives' = 0 AND Region = 'Europe']\n",
            "(Background on this error at: https://sqlalche.me/e/14/e3q8)\n"
          ]
        }
      ]
    },
    {
      "cell_type": "code",
      "source": [
        "# Challenge 1\n",
        "# Using the Interpol Dataset, let us get the Northern African countries that  \n",
        "# do not host possible fugitives or captured fugitives"
      ],
      "metadata": {
        "id": "POfkKbG2Q9Es"
      },
      "execution_count": null,
      "outputs": []
    },
    {
      "cell_type": "code",
      "source": [
        "%%sql \n",
        "Select Country FROM Interpol WHERE 'Possible Hosted Fugitives / Captured Fugitives' = 0 AND Region = 'Northern Africa'\n"
      ],
      "metadata": {
        "id": "-oRb3BiDe0sN",
        "outputId": "563f5621-1b0d-4ee1-b702-6bd58cb23e01",
        "colab": {
          "base_uri": "https://localhost:8080/",
          "height": 74
        }
      },
      "execution_count": 23,
      "outputs": [
        {
          "output_type": "stream",
          "name": "stdout",
          "text": [
            " * sqlite://\n",
            "Done.\n"
          ]
        },
        {
          "output_type": "execute_result",
          "data": {
            "text/plain": [
              "[]"
            ],
            "text/html": [
              "<table>\n",
              "    <thead>\n",
              "        <tr>\n",
              "            <th>Country</th>\n",
              "        </tr>\n",
              "    </thead>\n",
              "    <tbody>\n",
              "    </tbody>\n",
              "</table>"
            ]
          },
          "metadata": {},
          "execution_count": 23
        }
      ]
    },
    {
      "cell_type": "code",
      "source": [
        "# Challenge 2\n",
        "# Using the Interpol Dataset, let us get the countries without a National fugitive and a Wanted fugitive\n",
        "#\n",
        "\n",
        "%%sql \n",
        "Select Country FROM Interpol WHERE 'National Fugitive'  AND   'Wanted fugitive' = 0\n"
      ],
      "metadata": {
        "id": "9-EA3JmbRQsQ",
        "outputId": "1c953f3d-e7b7-49e9-a642-529e8b3fc344",
        "colab": {
          "base_uri": "https://localhost:8080/",
          "height": 74
        }
      },
      "execution_count": 27,
      "outputs": [
        {
          "output_type": "stream",
          "name": "stdout",
          "text": [
            " * sqlite://\n",
            "Done.\n"
          ]
        },
        {
          "output_type": "execute_result",
          "data": {
            "text/plain": [
              "[]"
            ],
            "text/html": [
              "<table>\n",
              "    <thead>\n",
              "        <tr>\n",
              "            <th>Country</th>\n",
              "        </tr>\n",
              "    </thead>\n",
              "    <tbody>\n",
              "    </tbody>\n",
              "</table>"
            ]
          },
          "metadata": {},
          "execution_count": 27
        }
      ]
    },
    {
      "cell_type": "code",
      "source": [
        "# Challenge 3\n",
        "# Using the Interpol Dataset, which european countries have 3 National Fugitives\n",
        "# \n",
        "%%sql\n",
        "Select Country From Interpol Where 'National Fugitive'= 3 AND Region = 'Europe'"
      ],
      "metadata": {
        "id": "REbk0OiPRWa6",
        "outputId": "2ac1da6b-98be-4e0e-df13-35de7af082fa",
        "colab": {
          "base_uri": "https://localhost:8080/",
          "height": 74
        }
      },
      "execution_count": 28,
      "outputs": [
        {
          "output_type": "stream",
          "name": "stdout",
          "text": [
            " * sqlite://\n",
            "Done.\n"
          ]
        },
        {
          "output_type": "execute_result",
          "data": {
            "text/plain": [
              "[]"
            ],
            "text/html": [
              "<table>\n",
              "    <thead>\n",
              "        <tr>\n",
              "            <th>Country</th>\n",
              "        </tr>\n",
              "    </thead>\n",
              "    <tbody>\n",
              "    </tbody>\n",
              "</table>"
            ]
          },
          "metadata": {},
          "execution_count": 28
        }
      ]
    }
  ]
}