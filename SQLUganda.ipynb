{
  "nbformat": 4,
  "nbformat_minor": 0,
  "metadata": {
    "colab": {
      "provenance": [],
      "collapsed_sections": [],
      "authorship_tag": "ABX9TyNhLnrHBMU7cCkgR/SB3TRN",
      "include_colab_link": true
    },
    "kernelspec": {
      "name": "python3",
      "display_name": "Python 3"
    },
    "language_info": {
      "name": "python"
    }
  },
  "cells": [
    {
      "cell_type": "markdown",
      "metadata": {
        "id": "view-in-github",
        "colab_type": "text"
      },
      "source": [
        "<a href=\"https://colab.research.google.com/github/GregoDs/DSassignment.ecommerce/blob/main/SQLUganda.ipynb\" target=\"_parent\"><img src=\"https://colab.research.google.com/assets/colab-badge.svg\" alt=\"Open In Colab\"/></a>"
      ]
    },
    {
      "cell_type": "code",
      "execution_count": 2,
      "metadata": {
        "id": "XnYSy-For_iS"
      },
      "outputs": [],
      "source": [
        "%load_ext sql"
      ]
    },
    {
      "cell_type": "code",
      "source": [
        "%sql sqlite://"
      ],
      "metadata": {
        "colab": {
          "base_uri": "https://localhost:8080/",
          "height": 36
        },
        "id": "BLSkHaUZt6VO",
        "outputId": "d0686163-75cd-4855-ebc4-bc9053022889"
      },
      "execution_count": 4,
      "outputs": [
        {
          "output_type": "execute_result",
          "data": {
            "text/plain": [
              "'Connected: @None'"
            ],
            "application/vnd.google.colaboratory.intrinsic+json": {
              "type": "string"
            }
          },
          "metadata": {},
          "execution_count": 4
        }
      ]
    },
    {
      "cell_type": "code",
      "source": [
        "#display a list of Sub Counties and their population and areas."
      ],
      "metadata": {
        "id": "x216euSxubq2"
      },
      "execution_count": null,
      "outputs": []
    },
    {
      "cell_type": "code",
      "source": [
        "import csv\n",
        "import pandas as pd"
      ],
      "metadata": {
        "id": "oVH3yOERvFI6"
      },
      "execution_count": 5,
      "outputs": []
    },
    {
      "cell_type": "code",
      "source": [
        "with open('/content/Uganda_Karamoja_Subcounty_Crop_Yield_Population (2).csv','r') as Uganda:\n",
        "  Counties= pd.read_csv(Uganda,encoding='utf-8')\n",
        "%sql DROP TABLE IF EXISTS Counties;\n",
        "%sql PERSIST Counties;"
      ],
      "metadata": {
        "colab": {
          "base_uri": "https://localhost:8080/",
          "height": 88
        },
        "id": "bOhxGvZyvcb-",
        "outputId": "5dcedeef-3e4c-408f-d72b-3ae17cb19de7"
      },
      "execution_count": 11,
      "outputs": [
        {
          "output_type": "stream",
          "name": "stdout",
          "text": [
            " * sqlite://\n",
            "Done.\n",
            " * sqlite://\n"
          ]
        },
        {
          "output_type": "execute_result",
          "data": {
            "text/plain": [
              "'Persisted counties'"
            ],
            "application/vnd.google.colaboratory.intrinsic+json": {
              "type": "string"
            }
          },
          "metadata": {},
          "execution_count": 11
        }
      ]
    },
    {
      "cell_type": "code",
      "source": [
        "%%sql \n",
        "Select * from Counties limit 10"
      ],
      "metadata": {
        "colab": {
          "base_uri": "https://localhost:8080/",
          "height": 280
        },
        "id": "1YXKv-zCxwiZ",
        "outputId": "538361a8-5233-4f3b-ac8a-80ca74ad1939"
      },
      "execution_count": 16,
      "outputs": [
        {
          "output_type": "stream",
          "name": "stdout",
          "text": [
            " * sqlite://\n",
            "Done.\n"
          ]
        },
        {
          "output_type": "execute_result",
          "data": {
            "text/plain": [
              "[(0, 263, 'KACHERI', 'KOTIDO', 17244, 1067176155, 'Y', 354.2074107, 1137.467019, 7023.533691, 6434.342449, 528.1242294, 2279091.779, 600723.8929),\n",
              " (1, 264, 'KOTIDO', 'KOTIDO', 52771, 597575188, 'Y', 367.8905232, 1162.996687, 13587.99076, 12455.59264, 824.7670809, 4582294.492, 959201.3825),\n",
              " (2, 265, 'KOTIDO TOWN COUNCIL', 'KOTIDO', 27389, 23972401, 'Y', 369.3141771, 1167.005832, 1656.531855, 1520.322052, 8.561643817, 561476.4874, 9991.488268),\n",
              " (3, 266, 'NAKAPERIMORU', 'KOTIDO', 38775, 419111591, 'Y', 283.3245689, 852.3665784, 7087.823334, 6761.488901, 45.72171184, 1915695.928, 38971.65908),\n",
              " (4, 267, 'PANYANGARA', 'KOTIDO', 65704, 880955930, 'Y', 373.8369255, 1283.859882, 10398.24939, 10111.19813, 172.6119139, 3779939.224, 221609.5114),\n",
              " (5, 268, 'RENGEN', 'KOTIDO', 41273, 652744859, 'Y', 271.1858431, 1047.180128, 13278.52043, 12964.49973, 171.5857036, 3515788.789, 179681.139),\n",
              " (6, 591, 'KAABONG  EAST', 'KAABONG', 42221, 60801942, 'Y', 160.5885252, 650.1235648, 1021.31699, 1004.647534, 15.66040911, 161334.8658, 10181.201),\n",
              " (7, 592, 'KAABONG TOWN COUNCIL', 'KAABONG', 38857, 13071455, 'Y', 212.210703, 1229.213444, 175.0805266, 156.5038884, 18.52618562, 33211.80017, 22772.63643),\n",
              " (8, 593, 'KAABONG WEST', 'KAABONG', 41454, 67612362, 'Y', 208.0405184, 1056.416068, 967.3367266, 910.2541223, 56.27535518, 189369.7394, 59450.18942),\n",
              " (9, 594, 'KALAPATA', 'KAABONG', 99203, 223116860, 'Y', 209.8093519, 633.4231821, 2834.349905, 2501.368282, 331.2257949, 524810.4582, 209806.097)]"
            ],
            "text/html": [
              "<table>\n",
              "    <thead>\n",
              "        <tr>\n",
              "            <th>index</th>\n",
              "            <th>OBJECTID</th>\n",
              "            <th>SUBCOUNTY_NAME</th>\n",
              "            <th>DISTRICT_NAME</th>\n",
              "            <th>POP</th>\n",
              "            <th>Area</th>\n",
              "            <th>Karamoja</th>\n",
              "            <th>S_Yield_Ha</th>\n",
              "            <th>M_Yield_Ha</th>\n",
              "            <th>Crop_Area_Ha</th>\n",
              "            <th>S_Area_Ha</th>\n",
              "            <th>M_Area_Ha</th>\n",
              "            <th>S_Prod_Tot</th>\n",
              "            <th>M_Prod_Tot</th>\n",
              "        </tr>\n",
              "    </thead>\n",
              "    <tbody>\n",
              "        <tr>\n",
              "            <td>0</td>\n",
              "            <td>263</td>\n",
              "            <td>KACHERI</td>\n",
              "            <td>KOTIDO</td>\n",
              "            <td>17244</td>\n",
              "            <td>1067176155</td>\n",
              "            <td>Y</td>\n",
              "            <td>354.2074107</td>\n",
              "            <td>1137.467019</td>\n",
              "            <td>7023.533691</td>\n",
              "            <td>6434.342449</td>\n",
              "            <td>528.1242294</td>\n",
              "            <td>2279091.779</td>\n",
              "            <td>600723.8929</td>\n",
              "        </tr>\n",
              "        <tr>\n",
              "            <td>1</td>\n",
              "            <td>264</td>\n",
              "            <td>KOTIDO</td>\n",
              "            <td>KOTIDO</td>\n",
              "            <td>52771</td>\n",
              "            <td>597575188</td>\n",
              "            <td>Y</td>\n",
              "            <td>367.8905232</td>\n",
              "            <td>1162.996687</td>\n",
              "            <td>13587.99076</td>\n",
              "            <td>12455.59264</td>\n",
              "            <td>824.7670809</td>\n",
              "            <td>4582294.492</td>\n",
              "            <td>959201.3825</td>\n",
              "        </tr>\n",
              "        <tr>\n",
              "            <td>2</td>\n",
              "            <td>265</td>\n",
              "            <td>KOTIDO TOWN COUNCIL</td>\n",
              "            <td>KOTIDO</td>\n",
              "            <td>27389</td>\n",
              "            <td>23972401</td>\n",
              "            <td>Y</td>\n",
              "            <td>369.3141771</td>\n",
              "            <td>1167.005832</td>\n",
              "            <td>1656.531855</td>\n",
              "            <td>1520.322052</td>\n",
              "            <td>8.561643817</td>\n",
              "            <td>561476.4874</td>\n",
              "            <td>9991.488268</td>\n",
              "        </tr>\n",
              "        <tr>\n",
              "            <td>3</td>\n",
              "            <td>266</td>\n",
              "            <td>NAKAPERIMORU</td>\n",
              "            <td>KOTIDO</td>\n",
              "            <td>38775</td>\n",
              "            <td>419111591</td>\n",
              "            <td>Y</td>\n",
              "            <td>283.3245689</td>\n",
              "            <td>852.3665784</td>\n",
              "            <td>7087.823334</td>\n",
              "            <td>6761.488901</td>\n",
              "            <td>45.72171184</td>\n",
              "            <td>1915695.928</td>\n",
              "            <td>38971.65908</td>\n",
              "        </tr>\n",
              "        <tr>\n",
              "            <td>4</td>\n",
              "            <td>267</td>\n",
              "            <td>PANYANGARA</td>\n",
              "            <td>KOTIDO</td>\n",
              "            <td>65704</td>\n",
              "            <td>880955930</td>\n",
              "            <td>Y</td>\n",
              "            <td>373.8369255</td>\n",
              "            <td>1283.859882</td>\n",
              "            <td>10398.24939</td>\n",
              "            <td>10111.19813</td>\n",
              "            <td>172.6119139</td>\n",
              "            <td>3779939.224</td>\n",
              "            <td>221609.5114</td>\n",
              "        </tr>\n",
              "        <tr>\n",
              "            <td>5</td>\n",
              "            <td>268</td>\n",
              "            <td>RENGEN</td>\n",
              "            <td>KOTIDO</td>\n",
              "            <td>41273</td>\n",
              "            <td>652744859</td>\n",
              "            <td>Y</td>\n",
              "            <td>271.1858431</td>\n",
              "            <td>1047.180128</td>\n",
              "            <td>13278.52043</td>\n",
              "            <td>12964.49973</td>\n",
              "            <td>171.5857036</td>\n",
              "            <td>3515788.789</td>\n",
              "            <td>179681.139</td>\n",
              "        </tr>\n",
              "        <tr>\n",
              "            <td>6</td>\n",
              "            <td>591</td>\n",
              "            <td>KAABONG  EAST</td>\n",
              "            <td>KAABONG</td>\n",
              "            <td>42221</td>\n",
              "            <td>60801942</td>\n",
              "            <td>Y</td>\n",
              "            <td>160.5885252</td>\n",
              "            <td>650.1235648</td>\n",
              "            <td>1021.31699</td>\n",
              "            <td>1004.647534</td>\n",
              "            <td>15.66040911</td>\n",
              "            <td>161334.8658</td>\n",
              "            <td>10181.201</td>\n",
              "        </tr>\n",
              "        <tr>\n",
              "            <td>7</td>\n",
              "            <td>592</td>\n",
              "            <td>KAABONG TOWN COUNCIL</td>\n",
              "            <td>KAABONG</td>\n",
              "            <td>38857</td>\n",
              "            <td>13071455</td>\n",
              "            <td>Y</td>\n",
              "            <td>212.210703</td>\n",
              "            <td>1229.213444</td>\n",
              "            <td>175.0805266</td>\n",
              "            <td>156.5038884</td>\n",
              "            <td>18.52618562</td>\n",
              "            <td>33211.80017</td>\n",
              "            <td>22772.63643</td>\n",
              "        </tr>\n",
              "        <tr>\n",
              "            <td>8</td>\n",
              "            <td>593</td>\n",
              "            <td>KAABONG WEST</td>\n",
              "            <td>KAABONG</td>\n",
              "            <td>41454</td>\n",
              "            <td>67612362</td>\n",
              "            <td>Y</td>\n",
              "            <td>208.0405184</td>\n",
              "            <td>1056.416068</td>\n",
              "            <td>967.3367266</td>\n",
              "            <td>910.2541223</td>\n",
              "            <td>56.27535518</td>\n",
              "            <td>189369.7394</td>\n",
              "            <td>59450.18942</td>\n",
              "        </tr>\n",
              "        <tr>\n",
              "            <td>9</td>\n",
              "            <td>594</td>\n",
              "            <td>KALAPATA</td>\n",
              "            <td>KAABONG</td>\n",
              "            <td>99203</td>\n",
              "            <td>223116860</td>\n",
              "            <td>Y</td>\n",
              "            <td>209.8093519</td>\n",
              "            <td>633.4231821</td>\n",
              "            <td>2834.349905</td>\n",
              "            <td>2501.368282</td>\n",
              "            <td>331.2257949</td>\n",
              "            <td>524810.4582</td>\n",
              "            <td>209806.097</td>\n",
              "        </tr>\n",
              "    </tbody>\n",
              "</table>"
            ]
          },
          "metadata": {},
          "execution_count": 16
        }
      ]
    },
    {
      "cell_type": "code",
      "source": [
        "%%sql \n",
        "Select POP,SUBCOUNTY_NAME,Area from Counties "
      ],
      "metadata": {
        "colab": {
          "base_uri": "https://localhost:8080/",
          "height": 280
        },
        "id": "sbWLNcJXwmpq",
        "outputId": "010a18c5-e4ff-4a52-ac2a-2dc7746b9884"
      },
      "execution_count": 15,
      "outputs": [
        {
          "output_type": "stream",
          "name": "stdout",
          "text": [
            " * sqlite://\n",
            "Done.\n"
          ]
        },
        {
          "output_type": "execute_result",
          "data": {
            "text/plain": [
              "[(17244, 'KACHERI', 1067176155),\n",
              " (52771, 'KOTIDO', 597575188),\n",
              " (27389, 'KOTIDO TOWN COUNCIL', 23972401),\n",
              " (38775, 'NAKAPERIMORU', 419111591),\n",
              " (65704, 'PANYANGARA', 880955930),\n",
              " (41273, 'RENGEN', 652744859),\n",
              " (42221, 'KAABONG  EAST', 60801942),\n",
              " (38857, 'KAABONG TOWN COUNCIL', 13071455),\n",
              " (41454, 'KAABONG WEST', 67612362),\n",
              " (99203, 'KALAPATA', 223116860)]"
            ],
            "text/html": [
              "<table>\n",
              "    <thead>\n",
              "        <tr>\n",
              "            <th>POP</th>\n",
              "            <th>SUBCOUNTY_NAME</th>\n",
              "            <th>Area</th>\n",
              "        </tr>\n",
              "    </thead>\n",
              "    <tbody>\n",
              "        <tr>\n",
              "            <td>17244</td>\n",
              "            <td>KACHERI</td>\n",
              "            <td>1067176155</td>\n",
              "        </tr>\n",
              "        <tr>\n",
              "            <td>52771</td>\n",
              "            <td>KOTIDO</td>\n",
              "            <td>597575188</td>\n",
              "        </tr>\n",
              "        <tr>\n",
              "            <td>27389</td>\n",
              "            <td>KOTIDO TOWN COUNCIL</td>\n",
              "            <td>23972401</td>\n",
              "        </tr>\n",
              "        <tr>\n",
              "            <td>38775</td>\n",
              "            <td>NAKAPERIMORU</td>\n",
              "            <td>419111591</td>\n",
              "        </tr>\n",
              "        <tr>\n",
              "            <td>65704</td>\n",
              "            <td>PANYANGARA</td>\n",
              "            <td>880955930</td>\n",
              "        </tr>\n",
              "        <tr>\n",
              "            <td>41273</td>\n",
              "            <td>RENGEN</td>\n",
              "            <td>652744859</td>\n",
              "        </tr>\n",
              "        <tr>\n",
              "            <td>42221</td>\n",
              "            <td>KAABONG  EAST</td>\n",
              "            <td>60801942</td>\n",
              "        </tr>\n",
              "        <tr>\n",
              "            <td>38857</td>\n",
              "            <td>KAABONG TOWN COUNCIL</td>\n",
              "            <td>13071455</td>\n",
              "        </tr>\n",
              "        <tr>\n",
              "            <td>41454</td>\n",
              "            <td>KAABONG WEST</td>\n",
              "            <td>67612362</td>\n",
              "        </tr>\n",
              "        <tr>\n",
              "            <td>99203</td>\n",
              "            <td>KALAPATA</td>\n",
              "            <td>223116860</td>\n",
              "        </tr>\n",
              "    </tbody>\n",
              "</table>"
            ]
          },
          "metadata": {},
          "execution_count": 15
        }
      ]
    },
    {
      "cell_type": "code",
      "source": [
        "#Sort the list of districts by total crop area (descending order).\n",
        "\n",
        "%%sql\n",
        "Select DISTRICT_NAME FROM Counties order by Crop_Area_Ha\tDESC;"
      ],
      "metadata": {
        "colab": {
          "base_uri": "https://localhost:8080/",
          "height": 1000
        },
        "id": "lUdJ0pLHxc61",
        "outputId": "17f08c6f-4f69-4ab1-81b6-f49d20f55784"
      },
      "execution_count": 18,
      "outputs": [
        {
          "output_type": "stream",
          "name": "stdout",
          "text": [
            " * sqlite://\n",
            "Done.\n"
          ]
        },
        {
          "output_type": "execute_result",
          "data": {
            "text/plain": [
              "[('KOTIDO',),\n",
              " ('KOTIDO',),\n",
              " ('KOTIDO',),\n",
              " ('KOTIDO',),\n",
              " ('KOTIDO',),\n",
              " ('KAABONG',),\n",
              " ('NAPAK',),\n",
              " ('NAKAPIRIPIRIT',),\n",
              " ('NAKAPIRIPIRIT',),\n",
              " ('NAPAK',),\n",
              " ('NAKAPIRIPIRIT',),\n",
              " ('KAABONG',),\n",
              " ('NAKAPIRIPIRIT',),\n",
              " ('NAKAPIRIPIRIT',),\n",
              " ('NAPAK',),\n",
              " ('NAPAK',),\n",
              " ('KAABONG',),\n",
              " ('KAABONG',),\n",
              " ('AMUDAT',),\n",
              " ('MOROTO',),\n",
              " ('KAABONG',),\n",
              " ('MOROTO',),\n",
              " ('NAKAPIRIPIRIT',),\n",
              " ('KAABONG',),\n",
              " ('NAPAK',),\n",
              " ('KOTIDO',),\n",
              " ('AMUDAT',),\n",
              " ('AMUDAT',),\n",
              " ('KAABONG',),\n",
              " ('KAABONG',),\n",
              " ('ABIM',),\n",
              " ('NAPAK',),\n",
              " ('NAKAPIRIPIRIT',),\n",
              " ('MOROTO',),\n",
              " ('NAPAK',),\n",
              " ('KAABONG',),\n",
              " ('ABIM',),\n",
              " ('KAABONG',),\n",
              " ('KAABONG',),\n",
              " ('KAABONG',),\n",
              " ('ABIM',),\n",
              " ('ABIM',),\n",
              " ('NAPAK',),\n",
              " ('ABIM',),\n",
              " ('ABIM',),\n",
              " ('KAABONG',),\n",
              " ('KAABONG',),\n",
              " ('MOROTO',),\n",
              " ('AMUDAT',),\n",
              " ('NAKAPIRIPIRIT',),\n",
              " ('MOROTO',),\n",
              " ('MOROTO',)]"
            ],
            "text/html": [
              "<table>\n",
              "    <thead>\n",
              "        <tr>\n",
              "            <th>DISTRICT_NAME</th>\n",
              "        </tr>\n",
              "    </thead>\n",
              "    <tbody>\n",
              "        <tr>\n",
              "            <td>KOTIDO</td>\n",
              "        </tr>\n",
              "        <tr>\n",
              "            <td>KOTIDO</td>\n",
              "        </tr>\n",
              "        <tr>\n",
              "            <td>KOTIDO</td>\n",
              "        </tr>\n",
              "        <tr>\n",
              "            <td>KOTIDO</td>\n",
              "        </tr>\n",
              "        <tr>\n",
              "            <td>KOTIDO</td>\n",
              "        </tr>\n",
              "        <tr>\n",
              "            <td>KAABONG</td>\n",
              "        </tr>\n",
              "        <tr>\n",
              "            <td>NAPAK</td>\n",
              "        </tr>\n",
              "        <tr>\n",
              "            <td>NAKAPIRIPIRIT</td>\n",
              "        </tr>\n",
              "        <tr>\n",
              "            <td>NAKAPIRIPIRIT</td>\n",
              "        </tr>\n",
              "        <tr>\n",
              "            <td>NAPAK</td>\n",
              "        </tr>\n",
              "        <tr>\n",
              "            <td>NAKAPIRIPIRIT</td>\n",
              "        </tr>\n",
              "        <tr>\n",
              "            <td>KAABONG</td>\n",
              "        </tr>\n",
              "        <tr>\n",
              "            <td>NAKAPIRIPIRIT</td>\n",
              "        </tr>\n",
              "        <tr>\n",
              "            <td>NAKAPIRIPIRIT</td>\n",
              "        </tr>\n",
              "        <tr>\n",
              "            <td>NAPAK</td>\n",
              "        </tr>\n",
              "        <tr>\n",
              "            <td>NAPAK</td>\n",
              "        </tr>\n",
              "        <tr>\n",
              "            <td>KAABONG</td>\n",
              "        </tr>\n",
              "        <tr>\n",
              "            <td>KAABONG</td>\n",
              "        </tr>\n",
              "        <tr>\n",
              "            <td>AMUDAT</td>\n",
              "        </tr>\n",
              "        <tr>\n",
              "            <td>MOROTO</td>\n",
              "        </tr>\n",
              "        <tr>\n",
              "            <td>KAABONG</td>\n",
              "        </tr>\n",
              "        <tr>\n",
              "            <td>MOROTO</td>\n",
              "        </tr>\n",
              "        <tr>\n",
              "            <td>NAKAPIRIPIRIT</td>\n",
              "        </tr>\n",
              "        <tr>\n",
              "            <td>KAABONG</td>\n",
              "        </tr>\n",
              "        <tr>\n",
              "            <td>NAPAK</td>\n",
              "        </tr>\n",
              "        <tr>\n",
              "            <td>KOTIDO</td>\n",
              "        </tr>\n",
              "        <tr>\n",
              "            <td>AMUDAT</td>\n",
              "        </tr>\n",
              "        <tr>\n",
              "            <td>AMUDAT</td>\n",
              "        </tr>\n",
              "        <tr>\n",
              "            <td>KAABONG</td>\n",
              "        </tr>\n",
              "        <tr>\n",
              "            <td>KAABONG</td>\n",
              "        </tr>\n",
              "        <tr>\n",
              "            <td>ABIM</td>\n",
              "        </tr>\n",
              "        <tr>\n",
              "            <td>NAPAK</td>\n",
              "        </tr>\n",
              "        <tr>\n",
              "            <td>NAKAPIRIPIRIT</td>\n",
              "        </tr>\n",
              "        <tr>\n",
              "            <td>MOROTO</td>\n",
              "        </tr>\n",
              "        <tr>\n",
              "            <td>NAPAK</td>\n",
              "        </tr>\n",
              "        <tr>\n",
              "            <td>KAABONG</td>\n",
              "        </tr>\n",
              "        <tr>\n",
              "            <td>ABIM</td>\n",
              "        </tr>\n",
              "        <tr>\n",
              "            <td>KAABONG</td>\n",
              "        </tr>\n",
              "        <tr>\n",
              "            <td>KAABONG</td>\n",
              "        </tr>\n",
              "        <tr>\n",
              "            <td>KAABONG</td>\n",
              "        </tr>\n",
              "        <tr>\n",
              "            <td>ABIM</td>\n",
              "        </tr>\n",
              "        <tr>\n",
              "            <td>ABIM</td>\n",
              "        </tr>\n",
              "        <tr>\n",
              "            <td>NAPAK</td>\n",
              "        </tr>\n",
              "        <tr>\n",
              "            <td>ABIM</td>\n",
              "        </tr>\n",
              "        <tr>\n",
              "            <td>ABIM</td>\n",
              "        </tr>\n",
              "        <tr>\n",
              "            <td>KAABONG</td>\n",
              "        </tr>\n",
              "        <tr>\n",
              "            <td>KAABONG</td>\n",
              "        </tr>\n",
              "        <tr>\n",
              "            <td>MOROTO</td>\n",
              "        </tr>\n",
              "        <tr>\n",
              "            <td>AMUDAT</td>\n",
              "        </tr>\n",
              "        <tr>\n",
              "            <td>NAKAPIRIPIRIT</td>\n",
              "        </tr>\n",
              "        <tr>\n",
              "            <td>MOROTO</td>\n",
              "        </tr>\n",
              "        <tr>\n",
              "            <td>MOROTO</td>\n",
              "        </tr>\n",
              "    </tbody>\n",
              "</table>"
            ]
          },
          "metadata": {},
          "execution_count": 18
        }
      ]
    },
    {
      "cell_type": "code",
      "source": [
        "#Select only the Sub counties from the Moroto district, order them alphabetically and show their production of sorghum.\n",
        "\n",
        "%%sql\n",
        "Select SUBCOUNTY_NAME,S_Yield_Ha from Counties where DISTRICT_NAME = \"MOROTO\" order by S_Yield_Ha;"
      ],
      "metadata": {
        "colab": {
          "base_uri": "https://localhost:8080/",
          "height": 197
        },
        "id": "lfWivAiYy_N8",
        "outputId": "8c58c6a8-c42c-4793-9207-1db54f229ef5"
      },
      "execution_count": 20,
      "outputs": [
        {
          "output_type": "stream",
          "name": "stdout",
          "text": [
            " * sqlite://\n",
            "Done.\n"
          ]
        },
        {
          "output_type": "execute_result",
          "data": {
            "text/plain": [
              "[('RUPA', 114.2709211),\n",
              " ('SOUTHERN DIVISION', 114.7955689),\n",
              " ('NORTHERN DIVISION', 131.9776979),\n",
              " ('NADUNGET', 133.6679356),\n",
              " ('TAPAC', 155.8699345),\n",
              " ('KATIKEKILE', 311.0062152)]"
            ],
            "text/html": [
              "<table>\n",
              "    <thead>\n",
              "        <tr>\n",
              "            <th>SUBCOUNTY_NAME</th>\n",
              "            <th>S_Yield_Ha</th>\n",
              "        </tr>\n",
              "    </thead>\n",
              "    <tbody>\n",
              "        <tr>\n",
              "            <td>RUPA</td>\n",
              "            <td>114.2709211</td>\n",
              "        </tr>\n",
              "        <tr>\n",
              "            <td>SOUTHERN DIVISION</td>\n",
              "            <td>114.7955689</td>\n",
              "        </tr>\n",
              "        <tr>\n",
              "            <td>NORTHERN DIVISION</td>\n",
              "            <td>131.9776979</td>\n",
              "        </tr>\n",
              "        <tr>\n",
              "            <td>NADUNGET</td>\n",
              "            <td>133.6679356</td>\n",
              "        </tr>\n",
              "        <tr>\n",
              "            <td>TAPAC</td>\n",
              "            <td>155.8699345</td>\n",
              "        </tr>\n",
              "        <tr>\n",
              "            <td>KATIKEKILE</td>\n",
              "            <td>311.0062152</td>\n",
              "        </tr>\n",
              "    </tbody>\n",
              "</table>"
            ]
          },
          "metadata": {},
          "execution_count": 20
        }
      ]
    },
    {
      "cell_type": "code",
      "source": [
        "#Compute the total Maize production per District.\n",
        "\n",
        "\n",
        "%%sql\n",
        "select DISTRICT_NAME, SUM(M_Prod_Tot) from Counties Group by DISTRICT_NAME;"
      ],
      "metadata": {
        "colab": {
          "base_uri": "https://localhost:8080/",
          "height": 218
        },
        "id": "HCtV9nET1WVT",
        "outputId": "9c7f93a2-f84b-4cb8-8be5-fb4f2ef4ba80"
      },
      "execution_count": 26,
      "outputs": [
        {
          "output_type": "stream",
          "name": "stdout",
          "text": [
            " * sqlite://\n",
            "Done.\n"
          ]
        },
        {
          "output_type": "execute_result",
          "data": {
            "text/plain": [
              "[('ABIM', 1922133.1297),\n",
              " ('AMUDAT', 3546469.3324990002),\n",
              " ('KAABONG', 6990361.6143000005),\n",
              " ('KOTIDO', 2010179.0731479998),\n",
              " ('MOROTO', 422116.06882464996),\n",
              " ('NAKAPIRIPIRIT', 8125156.24546),\n",
              " ('NAPAK', 5587379.38888)]"
            ],
            "text/html": [
              "<table>\n",
              "    <thead>\n",
              "        <tr>\n",
              "            <th>DISTRICT_NAME</th>\n",
              "            <th>SUM(M_Prod_Tot)</th>\n",
              "        </tr>\n",
              "    </thead>\n",
              "    <tbody>\n",
              "        <tr>\n",
              "            <td>ABIM</td>\n",
              "            <td>1922133.1297</td>\n",
              "        </tr>\n",
              "        <tr>\n",
              "            <td>AMUDAT</td>\n",
              "            <td>3546469.3324990002</td>\n",
              "        </tr>\n",
              "        <tr>\n",
              "            <td>KAABONG</td>\n",
              "            <td>6990361.6143000005</td>\n",
              "        </tr>\n",
              "        <tr>\n",
              "            <td>KOTIDO</td>\n",
              "            <td>2010179.0731479998</td>\n",
              "        </tr>\n",
              "        <tr>\n",
              "            <td>MOROTO</td>\n",
              "            <td>422116.06882464996</td>\n",
              "        </tr>\n",
              "        <tr>\n",
              "            <td>NAKAPIRIPIRIT</td>\n",
              "            <td>8125156.24546</td>\n",
              "        </tr>\n",
              "        <tr>\n",
              "            <td>NAPAK</td>\n",
              "            <td>5587379.38888</td>\n",
              "        </tr>\n",
              "    </tbody>\n",
              "</table>"
            ]
          },
          "metadata": {},
          "execution_count": 26
        }
      ]
    },
    {
      "cell_type": "code",
      "source": [
        "#Compute the number of Sub counties where Maize is produced and\n",
        "#the total Maize production per District.\n",
        "\n",
        "\n",
        "%%sql\n",
        "SELECT DISTRICT_NAME,COUNT(SUBCOUNTY_NAME),SUM(M_Prod_Tot) FROM Counties group by DISTRICT_NAME ;\n",
        "\n",
        "\n",
        "\n",
        "\n"
      ],
      "metadata": {
        "colab": {
          "base_uri": "https://localhost:8080/",
          "height": 218
        },
        "id": "lWD0tdxs3V5E",
        "outputId": "c620698a-3d80-4017-b079-dfd76d8630d1"
      },
      "execution_count": 28,
      "outputs": [
        {
          "output_type": "stream",
          "name": "stdout",
          "text": [
            " * sqlite://\n",
            "Done.\n"
          ]
        },
        {
          "output_type": "execute_result",
          "data": {
            "text/plain": [
              "[('ABIM', 6, 1922133.1297),\n",
              " ('AMUDAT', 4, 3546469.3324990002),\n",
              " ('KAABONG', 14, 6990361.6143000005),\n",
              " ('KOTIDO', 6, 2010179.0731479998),\n",
              " ('MOROTO', 6, 422116.06882464996),\n",
              " ('NAKAPIRIPIRIT', 8, 8125156.24546),\n",
              " ('NAPAK', 8, 5587379.38888)]"
            ],
            "text/html": [
              "<table>\n",
              "    <thead>\n",
              "        <tr>\n",
              "            <th>DISTRICT_NAME</th>\n",
              "            <th>COUNT(SUBCOUNTY_NAME)</th>\n",
              "            <th>SUM(M_Prod_Tot)</th>\n",
              "        </tr>\n",
              "    </thead>\n",
              "    <tbody>\n",
              "        <tr>\n",
              "            <td>ABIM</td>\n",
              "            <td>6</td>\n",
              "            <td>1922133.1297</td>\n",
              "        </tr>\n",
              "        <tr>\n",
              "            <td>AMUDAT</td>\n",
              "            <td>4</td>\n",
              "            <td>3546469.3324990002</td>\n",
              "        </tr>\n",
              "        <tr>\n",
              "            <td>KAABONG</td>\n",
              "            <td>14</td>\n",
              "            <td>6990361.6143000005</td>\n",
              "        </tr>\n",
              "        <tr>\n",
              "            <td>KOTIDO</td>\n",
              "            <td>6</td>\n",
              "            <td>2010179.0731479998</td>\n",
              "        </tr>\n",
              "        <tr>\n",
              "            <td>MOROTO</td>\n",
              "            <td>6</td>\n",
              "            <td>422116.06882464996</td>\n",
              "        </tr>\n",
              "        <tr>\n",
              "            <td>NAKAPIRIPIRIT</td>\n",
              "            <td>8</td>\n",
              "            <td>8125156.24546</td>\n",
              "        </tr>\n",
              "        <tr>\n",
              "            <td>NAPAK</td>\n",
              "            <td>8</td>\n",
              "            <td>5587379.38888</td>\n",
              "        </tr>\n",
              "    </tbody>\n",
              "</table>"
            ]
          },
          "metadata": {},
          "execution_count": 28
        }
      ]
    },
    {
      "cell_type": "code",
      "source": [
        "#Compute the overall Crop area in all Sub counties where population is over 20000.\n",
        "\n",
        "\n",
        "%%sql\n",
        "\n",
        "SELECT SUM(Crop_Area_Ha),SUBCOUNTY_NAME FROM Counties Where POP >20000;\n"
      ],
      "metadata": {
        "colab": {
          "base_uri": "https://localhost:8080/",
          "height": 94
        },
        "id": "agMuC8sM3V2b",
        "outputId": "d3a7a364-f982-450a-e2eb-fbff3b48e798"
      },
      "execution_count": 29,
      "outputs": [
        {
          "output_type": "stream",
          "name": "stdout",
          "text": [
            " * sqlite://\n",
            "Done.\n"
          ]
        },
        {
          "output_type": "execute_result",
          "data": {
            "text/plain": [
              "[(120212.89015529997, 'RUPA')]"
            ],
            "text/html": [
              "<table>\n",
              "    <thead>\n",
              "        <tr>\n",
              "            <th>SUM(Crop_Area_Ha)</th>\n",
              "            <th>SUBCOUNTY_NAME</th>\n",
              "        </tr>\n",
              "    </thead>\n",
              "    <tbody>\n",
              "        <tr>\n",
              "            <td>120212.89015529997</td>\n",
              "            <td>RUPA</td>\n",
              "        </tr>\n",
              "    </tbody>\n",
              "</table>"
            ]
          },
          "metadata": {},
          "execution_count": 29
        }
      ]
    },
    {
      "cell_type": "code",
      "source": [],
      "metadata": {
        "id": "C3kLXCEE3Vkd"
      },
      "execution_count": null,
      "outputs": []
    },
    {
      "cell_type": "code",
      "source": [
        "#Sort the Maize production in descending order by Districts, only taking #\n",
        "#into account Sub counties where Maize area is larger than Sorghumarea, and display the number of Sub counties per district matching\n",
        "#that criteria.\n",
        "\n",
        "\n",
        "%%sql\n",
        "SELECT DISTRICT_NAME,COUNT(SUBCOUNTY_NAME),SUM(M_Prod_Tot) FROM Counties WHERE M_Area_Ha > S_Area_Ha GROUP BY DISTRICT_NAME ORDER BY SUM(M_Prod_Tot) DESC;\n"
      ],
      "metadata": {
        "colab": {
          "base_uri": "https://localhost:8080/",
          "height": 177
        },
        "id": "3VChfSkq2UBK",
        "outputId": "c3417077-0607-40c6-a71c-4405f6f1e909"
      },
      "execution_count": 25,
      "outputs": [
        {
          "output_type": "stream",
          "name": "stdout",
          "text": [
            " * sqlite://\n",
            "Done.\n"
          ]
        },
        {
          "output_type": "execute_result",
          "data": {
            "text/plain": [
              "[('NAKAPIRIPIRIT', 3, 5598605.98276),\n",
              " ('NAPAK', 2, 3645843.6206),\n",
              " ('KAABONG', 3, 2318728.7395),\n",
              " ('AMUDAT', 1, 1340672.952),\n",
              " ('MOROTO', 3, 224589.26731465)]"
            ],
            "text/html": [
              "<table>\n",
              "    <thead>\n",
              "        <tr>\n",
              "            <th>DISTRICT_NAME</th>\n",
              "            <th>COUNT(SUBCOUNTY_NAME)</th>\n",
              "            <th>SUM(M_Prod_Tot)</th>\n",
              "        </tr>\n",
              "    </thead>\n",
              "    <tbody>\n",
              "        <tr>\n",
              "            <td>NAKAPIRIPIRIT</td>\n",
              "            <td>3</td>\n",
              "            <td>5598605.98276</td>\n",
              "        </tr>\n",
              "        <tr>\n",
              "            <td>NAPAK</td>\n",
              "            <td>2</td>\n",
              "            <td>3645843.6206</td>\n",
              "        </tr>\n",
              "        <tr>\n",
              "            <td>KAABONG</td>\n",
              "            <td>3</td>\n",
              "            <td>2318728.7395</td>\n",
              "        </tr>\n",
              "        <tr>\n",
              "            <td>AMUDAT</td>\n",
              "            <td>1</td>\n",
              "            <td>1340672.952</td>\n",
              "        </tr>\n",
              "        <tr>\n",
              "            <td>MOROTO</td>\n",
              "            <td>3</td>\n",
              "            <td>224589.26731465</td>\n",
              "        </tr>\n",
              "    </tbody>\n",
              "</table>"
            ]
          },
          "metadata": {},
          "execution_count": 25
        }
      ]
    },
    {
      "cell_type": "code",
      "source": [],
      "metadata": {
        "id": "Wyp707Ct3TkF"
      },
      "execution_count": null,
      "outputs": []
    }
  ]
}