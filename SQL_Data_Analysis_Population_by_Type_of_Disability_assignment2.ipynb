{
  "nbformat": 4,
  "nbformat_minor": 0,
  "metadata": {
    "colab": {
      "provenance": [],
      "authorship_tag": "ABX9TyNgq97HUOvyn3Ju2UCReV98",
      "include_colab_link": true
    },
    "kernelspec": {
      "name": "python3",
      "display_name": "Python 3"
    },
    "language_info": {
      "name": "python"
    }
  },
  "cells": [
    {
      "cell_type": "markdown",
      "metadata": {
        "id": "view-in-github",
        "colab_type": "text"
      },
      "source": [
        "<a href=\"https://colab.research.google.com/github/GregoDs/DSassignments.all/blob/main/SQL_Data_Analysis_Population_by_Type_of_Disability_assignment2.ipynb\" target=\"_parent\"><img src=\"https://colab.research.google.com/assets/colab-badge.svg\" alt=\"Open In Colab\"/></a>"
      ]
    },
    {
      "cell_type": "markdown",
      "source": [
        "# SQL Data Analysis: Population by Type of Disability\n"
      ],
      "metadata": {
        "id": "ha30lfOEyLbP"
      }
    },
    {
      "cell_type": "code",
      "source": [
        "# We will first load the sql extension into our environment\n",
        "%load_ext sql\n",
        "\n",
        "# Then connect to our in memory sqlite database\n",
        "# NB: This database will cease to exist as soon as the database connection is closed. \n",
        "%sql sqlite://"
      ],
      "metadata": {
        "colab": {
          "base_uri": "https://localhost:8080/",
          "height": 36
        },
        "id": "t9H5mT2EyOoz",
        "outputId": "b083c92e-78e5-4ecc-d291-c0533687ba4c"
      },
      "execution_count": 10,
      "outputs": [
        {
          "output_type": "execute_result",
          "data": {
            "text/plain": [
              "'Connected: @None'"
            ],
            "application/vnd.google.colaboratory.intrinsic+json": {
              "type": "string"
            }
          },
          "metadata": {},
          "execution_count": 10
        }
      ]
    },
    {
      "cell_type": "code",
      "source": [
        "import pandas as pd "
      ],
      "metadata": {
        "id": "45YC-ssoyjII"
      },
      "execution_count": 11,
      "outputs": []
    },
    {
      "cell_type": "code",
      "source": [
        "# Loading our table from the respective CSV files\n",
        "# We will export the dataset that we have cleaned using python\n",
        "#\n",
        "with open('/content/Percentage_Distribution_of_Population_by_type_of_Disability_County_Estimates2005_6.csv','r') as f:\n",
        "    Population = pd.read_csv(f, index_col=0, encoding='utf-8')\n",
        "%sql DROP TABLE if EXISTS Population;\n",
        "%sql PERSIST Population;\n",
        "%sql SELECT * FROM Population LIMIT 5;\n"
      ],
      "metadata": {
        "colab": {
          "base_uri": "https://localhost:8080/",
          "height": 229
        },
        "id": "TsZIbOPjypva",
        "outputId": "0da889ee-cdb6-4a82-c217-2c1dc662b601"
      },
      "execution_count": 13,
      "outputs": [
        {
          "output_type": "stream",
          "name": "stdout",
          "text": [
            " * sqlite://\n",
            "Done.\n",
            " * sqlite://\n",
            " * sqlite://\n",
            "Done.\n"
          ]
        },
        {
          "output_type": "execute_result",
          "data": {
            "text/plain": [
              "[('Baringo', '10.9%', '2.8%', '30.9%', '2.6%', '1%', '3.8%', '12.4%', '54.2%', '10.9%', 6512.1, '(0.512912, 35.952537)', 0),\n",
              " ('Bomet', '0%', '0%', '29.2%', '10%', '8.1%', '8.1%', '14.2%', '0.3%', '38.7%', 6538.0, '(-0.690131, 35.278005)', 1),\n",
              " ('Bungoma', '12.3%', '0%', '49.2%', '0%', '2.3%', '20.8%', '12.7%', '0%', '21.9%', 13170.6, '(0.737046, 34.672536)', 2),\n",
              " ('Busia', '0%', '0%', '14.3%', '12.3%', '4.6%', '35.5%', '4.8%', '14.8%', '31.4%', 6655.5, '(0.428414, 34.210571)', 3),\n",
              " ('Elgeyo Marakwet', '0%', '0%', '31.7%', '0%', '35.7%', '0%', '20%', '12.6%', '7.4%', 3599.9, '(0.806011, 35.564093)', 4)]"
            ],
            "text/html": [
              "<table>\n",
              "    <thead>\n",
              "        <tr>\n",
              "            <th>County</th>\n",
              "            <th>Missing_Hand</th>\n",
              "            <th>Missing_Foot</th>\n",
              "            <th>Lame</th>\n",
              "            <th>Blind</th>\n",
              "            <th>Deaf</th>\n",
              "            <th>Dumb</th>\n",
              "            <th>Mental</th>\n",
              "            <th>Paralyzed</th>\n",
              "            <th>Other</th>\n",
              "            <th>Total_Count</th>\n",
              "            <th>Location_1</th>\n",
              "            <th>OBJECTID</th>\n",
              "        </tr>\n",
              "    </thead>\n",
              "    <tbody>\n",
              "        <tr>\n",
              "            <td>Baringo</td>\n",
              "            <td>10.9%</td>\n",
              "            <td>2.8%</td>\n",
              "            <td>30.9%</td>\n",
              "            <td>2.6%</td>\n",
              "            <td>1%</td>\n",
              "            <td>3.8%</td>\n",
              "            <td>12.4%</td>\n",
              "            <td>54.2%</td>\n",
              "            <td>10.9%</td>\n",
              "            <td>6512.1</td>\n",
              "            <td>(0.512912, 35.952537)</td>\n",
              "            <td>0</td>\n",
              "        </tr>\n",
              "        <tr>\n",
              "            <td>Bomet</td>\n",
              "            <td>0%</td>\n",
              "            <td>0%</td>\n",
              "            <td>29.2%</td>\n",
              "            <td>10%</td>\n",
              "            <td>8.1%</td>\n",
              "            <td>8.1%</td>\n",
              "            <td>14.2%</td>\n",
              "            <td>0.3%</td>\n",
              "            <td>38.7%</td>\n",
              "            <td>6538.0</td>\n",
              "            <td>(-0.690131, 35.278005)</td>\n",
              "            <td>1</td>\n",
              "        </tr>\n",
              "        <tr>\n",
              "            <td>Bungoma</td>\n",
              "            <td>12.3%</td>\n",
              "            <td>0%</td>\n",
              "            <td>49.2%</td>\n",
              "            <td>0%</td>\n",
              "            <td>2.3%</td>\n",
              "            <td>20.8%</td>\n",
              "            <td>12.7%</td>\n",
              "            <td>0%</td>\n",
              "            <td>21.9%</td>\n",
              "            <td>13170.6</td>\n",
              "            <td>(0.737046, 34.672536)</td>\n",
              "            <td>2</td>\n",
              "        </tr>\n",
              "        <tr>\n",
              "            <td>Busia</td>\n",
              "            <td>0%</td>\n",
              "            <td>0%</td>\n",
              "            <td>14.3%</td>\n",
              "            <td>12.3%</td>\n",
              "            <td>4.6%</td>\n",
              "            <td>35.5%</td>\n",
              "            <td>4.8%</td>\n",
              "            <td>14.8%</td>\n",
              "            <td>31.4%</td>\n",
              "            <td>6655.5</td>\n",
              "            <td>(0.428414, 34.210571)</td>\n",
              "            <td>3</td>\n",
              "        </tr>\n",
              "        <tr>\n",
              "            <td>Elgeyo Marakwet</td>\n",
              "            <td>0%</td>\n",
              "            <td>0%</td>\n",
              "            <td>31.7%</td>\n",
              "            <td>0%</td>\n",
              "            <td>35.7%</td>\n",
              "            <td>0%</td>\n",
              "            <td>20%</td>\n",
              "            <td>12.6%</td>\n",
              "            <td>7.4%</td>\n",
              "            <td>3599.9</td>\n",
              "            <td>(0.806011, 35.564093)</td>\n",
              "            <td>4</td>\n",
              "        </tr>\n",
              "    </tbody>\n",
              "</table>"
            ]
          },
          "metadata": {},
          "execution_count": 13
        }
      ]
    },
    {
      "cell_type": "code",
      "source": [
        "# Let's preview the first 10 rows of our data\n",
        "%sql SELECT * FROM population LIMIT 10;"
      ],
      "metadata": {
        "colab": {
          "base_uri": "https://localhost:8080/",
          "height": 280
        },
        "id": "QUj0DjVVzI4D",
        "outputId": "e51684a2-06ee-43c1-e04a-bf0534bda3e8"
      },
      "execution_count": 5,
      "outputs": [
        {
          "output_type": "stream",
          "name": "stdout",
          "text": [
            " * sqlite://\n",
            "Done.\n"
          ]
        },
        {
          "output_type": "execute_result",
          "data": {
            "text/plain": [
              "[('Baringo', '10.9%', '2.8%', '30.9%', '2.6%', '1%', '3.8%', '12.4%', '54.2%', '10.9%', 6512.1, '(0.512912, 35.952537)', 0),\n",
              " ('Bomet', '0%', '0%', '29.2%', '10%', '8.1%', '8.1%', '14.2%', '0.3%', '38.7%', 6538.0, '(-0.690131, 35.278005)', 1),\n",
              " ('Bungoma', '12.3%', '0%', '49.2%', '0%', '2.3%', '20.8%', '12.7%', '0%', '21.9%', 13170.6, '(0.737046, 34.672536)', 2),\n",
              " ('Busia', '0%', '0%', '14.3%', '12.3%', '4.6%', '35.5%', '4.8%', '14.8%', '31.4%', 6655.5, '(0.428414, 34.210571)', 3),\n",
              " ('Elgeyo Marakwet', '0%', '0%', '31.7%', '0%', '35.7%', '0%', '20%', '12.6%', '7.4%', 3599.9, '(0.806011, 35.564093)', 4),\n",
              " ('Embu', '0%', '0%', '55.1%', '0%', '0%', '3%', '3%', '2.5%', '41.8%', 6287.4, '(-0.5982, 37.653906)', 5),\n",
              " ('Garissa', '0%', '37.1%', '0%', '0%', '0%', '0%', '11.3%', '11.3%', '51.6%', 1864.1, '(-0.564679, 40.408457)', 6),\n",
              " ('Homa Bay', '2.1%', '0%', '20.9%', '6.7%', '6.3%', '5.2%', '11.3%', '9%', '48.3%', 23696.8, '(-0.640985, 34.411083)', 7),\n",
              " ('Isiolo', '13.9%', '3.3%', '32.6%', '38.6%', '12.9%', '0%', '0%', '2%', '19.8%', 2154.4, '(0.949302, 38.614718)', 8),\n",
              " ('Kajiado', '0%', '0%', '26.9%', '19%', '0%', '0%', '27.6%', '0%', '45.5%', 3250.3, '(-2.221971, 36.980268)', 9)]"
            ],
            "text/html": [
              "<table>\n",
              "    <thead>\n",
              "        <tr>\n",
              "            <th>County</th>\n",
              "            <th>Missing_Hand</th>\n",
              "            <th>Missing_Foot</th>\n",
              "            <th>Lame</th>\n",
              "            <th>Blind</th>\n",
              "            <th>Deaf</th>\n",
              "            <th>Dumb</th>\n",
              "            <th>Mental</th>\n",
              "            <th>Paralyzed</th>\n",
              "            <th>Other</th>\n",
              "            <th>Total_Count</th>\n",
              "            <th>Location_1</th>\n",
              "            <th>OBJECTID</th>\n",
              "        </tr>\n",
              "    </thead>\n",
              "    <tbody>\n",
              "        <tr>\n",
              "            <td>Baringo</td>\n",
              "            <td>10.9%</td>\n",
              "            <td>2.8%</td>\n",
              "            <td>30.9%</td>\n",
              "            <td>2.6%</td>\n",
              "            <td>1%</td>\n",
              "            <td>3.8%</td>\n",
              "            <td>12.4%</td>\n",
              "            <td>54.2%</td>\n",
              "            <td>10.9%</td>\n",
              "            <td>6512.1</td>\n",
              "            <td>(0.512912, 35.952537)</td>\n",
              "            <td>0</td>\n",
              "        </tr>\n",
              "        <tr>\n",
              "            <td>Bomet</td>\n",
              "            <td>0%</td>\n",
              "            <td>0%</td>\n",
              "            <td>29.2%</td>\n",
              "            <td>10%</td>\n",
              "            <td>8.1%</td>\n",
              "            <td>8.1%</td>\n",
              "            <td>14.2%</td>\n",
              "            <td>0.3%</td>\n",
              "            <td>38.7%</td>\n",
              "            <td>6538.0</td>\n",
              "            <td>(-0.690131, 35.278005)</td>\n",
              "            <td>1</td>\n",
              "        </tr>\n",
              "        <tr>\n",
              "            <td>Bungoma</td>\n",
              "            <td>12.3%</td>\n",
              "            <td>0%</td>\n",
              "            <td>49.2%</td>\n",
              "            <td>0%</td>\n",
              "            <td>2.3%</td>\n",
              "            <td>20.8%</td>\n",
              "            <td>12.7%</td>\n",
              "            <td>0%</td>\n",
              "            <td>21.9%</td>\n",
              "            <td>13170.6</td>\n",
              "            <td>(0.737046, 34.672536)</td>\n",
              "            <td>2</td>\n",
              "        </tr>\n",
              "        <tr>\n",
              "            <td>Busia</td>\n",
              "            <td>0%</td>\n",
              "            <td>0%</td>\n",
              "            <td>14.3%</td>\n",
              "            <td>12.3%</td>\n",
              "            <td>4.6%</td>\n",
              "            <td>35.5%</td>\n",
              "            <td>4.8%</td>\n",
              "            <td>14.8%</td>\n",
              "            <td>31.4%</td>\n",
              "            <td>6655.5</td>\n",
              "            <td>(0.428414, 34.210571)</td>\n",
              "            <td>3</td>\n",
              "        </tr>\n",
              "        <tr>\n",
              "            <td>Elgeyo Marakwet</td>\n",
              "            <td>0%</td>\n",
              "            <td>0%</td>\n",
              "            <td>31.7%</td>\n",
              "            <td>0%</td>\n",
              "            <td>35.7%</td>\n",
              "            <td>0%</td>\n",
              "            <td>20%</td>\n",
              "            <td>12.6%</td>\n",
              "            <td>7.4%</td>\n",
              "            <td>3599.9</td>\n",
              "            <td>(0.806011, 35.564093)</td>\n",
              "            <td>4</td>\n",
              "        </tr>\n",
              "        <tr>\n",
              "            <td>Embu</td>\n",
              "            <td>0%</td>\n",
              "            <td>0%</td>\n",
              "            <td>55.1%</td>\n",
              "            <td>0%</td>\n",
              "            <td>0%</td>\n",
              "            <td>3%</td>\n",
              "            <td>3%</td>\n",
              "            <td>2.5%</td>\n",
              "            <td>41.8%</td>\n",
              "            <td>6287.4</td>\n",
              "            <td>(-0.5982, 37.653906)</td>\n",
              "            <td>5</td>\n",
              "        </tr>\n",
              "        <tr>\n",
              "            <td>Garissa</td>\n",
              "            <td>0%</td>\n",
              "            <td>37.1%</td>\n",
              "            <td>0%</td>\n",
              "            <td>0%</td>\n",
              "            <td>0%</td>\n",
              "            <td>0%</td>\n",
              "            <td>11.3%</td>\n",
              "            <td>11.3%</td>\n",
              "            <td>51.6%</td>\n",
              "            <td>1864.1</td>\n",
              "            <td>(-0.564679, 40.408457)</td>\n",
              "            <td>6</td>\n",
              "        </tr>\n",
              "        <tr>\n",
              "            <td>Homa Bay</td>\n",
              "            <td>2.1%</td>\n",
              "            <td>0%</td>\n",
              "            <td>20.9%</td>\n",
              "            <td>6.7%</td>\n",
              "            <td>6.3%</td>\n",
              "            <td>5.2%</td>\n",
              "            <td>11.3%</td>\n",
              "            <td>9%</td>\n",
              "            <td>48.3%</td>\n",
              "            <td>23696.8</td>\n",
              "            <td>(-0.640985, 34.411083)</td>\n",
              "            <td>7</td>\n",
              "        </tr>\n",
              "        <tr>\n",
              "            <td>Isiolo</td>\n",
              "            <td>13.9%</td>\n",
              "            <td>3.3%</td>\n",
              "            <td>32.6%</td>\n",
              "            <td>38.6%</td>\n",
              "            <td>12.9%</td>\n",
              "            <td>0%</td>\n",
              "            <td>0%</td>\n",
              "            <td>2%</td>\n",
              "            <td>19.8%</td>\n",
              "            <td>2154.4</td>\n",
              "            <td>(0.949302, 38.614718)</td>\n",
              "            <td>8</td>\n",
              "        </tr>\n",
              "        <tr>\n",
              "            <td>Kajiado</td>\n",
              "            <td>0%</td>\n",
              "            <td>0%</td>\n",
              "            <td>26.9%</td>\n",
              "            <td>19%</td>\n",
              "            <td>0%</td>\n",
              "            <td>0%</td>\n",
              "            <td>27.6%</td>\n",
              "            <td>0%</td>\n",
              "            <td>45.5%</td>\n",
              "            <td>3250.3</td>\n",
              "            <td>(-2.221971, 36.980268)</td>\n",
              "            <td>9</td>\n",
              "        </tr>\n",
              "    </tbody>\n",
              "</table>"
            ]
          },
          "metadata": {},
          "execution_count": 5
        }
      ]
    },
    {
      "cell_type": "code",
      "source": [
        "# Getting to know more about the dataset by accessing its information\n",
        "%sql SELECT * FROM population LIMIT 10;"
      ],
      "metadata": {
        "colab": {
          "base_uri": "https://localhost:8080/",
          "height": 280
        },
        "id": "bvUSpDiBzqFu",
        "outputId": "557ab901-30b1-4707-c5ce-061f3422c6e9"
      },
      "execution_count": 10,
      "outputs": [
        {
          "output_type": "stream",
          "name": "stdout",
          "text": [
            " * sqlite://\n",
            "Done.\n"
          ]
        },
        {
          "output_type": "execute_result",
          "data": {
            "text/plain": [
              "[('Baringo', '10.9%', '2.8%', '30.9%', '2.6%', '1%', '3.8%', '12.4%', '54.2%', '10.9%', 6512.1, '(0.512912, 35.952537)', 0),\n",
              " ('Bomet', '0%', '0%', '29.2%', '10%', '8.1%', '8.1%', '14.2%', '0.3%', '38.7%', 6538.0, '(-0.690131, 35.278005)', 1),\n",
              " ('Bungoma', '12.3%', '0%', '49.2%', '0%', '2.3%', '20.8%', '12.7%', '0%', '21.9%', 13170.6, '(0.737046, 34.672536)', 2),\n",
              " ('Busia', '0%', '0%', '14.3%', '12.3%', '4.6%', '35.5%', '4.8%', '14.8%', '31.4%', 6655.5, '(0.428414, 34.210571)', 3),\n",
              " ('Elgeyo Marakwet', '0%', '0%', '31.7%', '0%', '35.7%', '0%', '20%', '12.6%', '7.4%', 3599.9, '(0.806011, 35.564093)', 4),\n",
              " ('Embu', '0%', '0%', '55.1%', '0%', '0%', '3%', '3%', '2.5%', '41.8%', 6287.4, '(-0.5982, 37.653906)', 5),\n",
              " ('Garissa', '0%', '37.1%', '0%', '0%', '0%', '0%', '11.3%', '11.3%', '51.6%', 1864.1, '(-0.564679, 40.408457)', 6),\n",
              " ('Homa Bay', '2.1%', '0%', '20.9%', '6.7%', '6.3%', '5.2%', '11.3%', '9%', '48.3%', 23696.8, '(-0.640985, 34.411083)', 7),\n",
              " ('Isiolo', '13.9%', '3.3%', '32.6%', '38.6%', '12.9%', '0%', '0%', '2%', '19.8%', 2154.4, '(0.949302, 38.614718)', 8),\n",
              " ('Kajiado', '0%', '0%', '26.9%', '19%', '0%', '0%', '27.6%', '0%', '45.5%', 3250.3, '(-2.221971, 36.980268)', 9)]"
            ],
            "text/html": [
              "<table>\n",
              "    <thead>\n",
              "        <tr>\n",
              "            <th>County</th>\n",
              "            <th>Missing_Hand</th>\n",
              "            <th>Missing_Foot</th>\n",
              "            <th>Lame</th>\n",
              "            <th>Blind</th>\n",
              "            <th>Deaf</th>\n",
              "            <th>Dumb</th>\n",
              "            <th>Mental</th>\n",
              "            <th>Paralyzed</th>\n",
              "            <th>Other</th>\n",
              "            <th>Total_Count</th>\n",
              "            <th>Location_1</th>\n",
              "            <th>OBJECTID</th>\n",
              "        </tr>\n",
              "    </thead>\n",
              "    <tbody>\n",
              "        <tr>\n",
              "            <td>Baringo</td>\n",
              "            <td>10.9%</td>\n",
              "            <td>2.8%</td>\n",
              "            <td>30.9%</td>\n",
              "            <td>2.6%</td>\n",
              "            <td>1%</td>\n",
              "            <td>3.8%</td>\n",
              "            <td>12.4%</td>\n",
              "            <td>54.2%</td>\n",
              "            <td>10.9%</td>\n",
              "            <td>6512.1</td>\n",
              "            <td>(0.512912, 35.952537)</td>\n",
              "            <td>0</td>\n",
              "        </tr>\n",
              "        <tr>\n",
              "            <td>Bomet</td>\n",
              "            <td>0%</td>\n",
              "            <td>0%</td>\n",
              "            <td>29.2%</td>\n",
              "            <td>10%</td>\n",
              "            <td>8.1%</td>\n",
              "            <td>8.1%</td>\n",
              "            <td>14.2%</td>\n",
              "            <td>0.3%</td>\n",
              "            <td>38.7%</td>\n",
              "            <td>6538.0</td>\n",
              "            <td>(-0.690131, 35.278005)</td>\n",
              "            <td>1</td>\n",
              "        </tr>\n",
              "        <tr>\n",
              "            <td>Bungoma</td>\n",
              "            <td>12.3%</td>\n",
              "            <td>0%</td>\n",
              "            <td>49.2%</td>\n",
              "            <td>0%</td>\n",
              "            <td>2.3%</td>\n",
              "            <td>20.8%</td>\n",
              "            <td>12.7%</td>\n",
              "            <td>0%</td>\n",
              "            <td>21.9%</td>\n",
              "            <td>13170.6</td>\n",
              "            <td>(0.737046, 34.672536)</td>\n",
              "            <td>2</td>\n",
              "        </tr>\n",
              "        <tr>\n",
              "            <td>Busia</td>\n",
              "            <td>0%</td>\n",
              "            <td>0%</td>\n",
              "            <td>14.3%</td>\n",
              "            <td>12.3%</td>\n",
              "            <td>4.6%</td>\n",
              "            <td>35.5%</td>\n",
              "            <td>4.8%</td>\n",
              "            <td>14.8%</td>\n",
              "            <td>31.4%</td>\n",
              "            <td>6655.5</td>\n",
              "            <td>(0.428414, 34.210571)</td>\n",
              "            <td>3</td>\n",
              "        </tr>\n",
              "        <tr>\n",
              "            <td>Elgeyo Marakwet</td>\n",
              "            <td>0%</td>\n",
              "            <td>0%</td>\n",
              "            <td>31.7%</td>\n",
              "            <td>0%</td>\n",
              "            <td>35.7%</td>\n",
              "            <td>0%</td>\n",
              "            <td>20%</td>\n",
              "            <td>12.6%</td>\n",
              "            <td>7.4%</td>\n",
              "            <td>3599.9</td>\n",
              "            <td>(0.806011, 35.564093)</td>\n",
              "            <td>4</td>\n",
              "        </tr>\n",
              "        <tr>\n",
              "            <td>Embu</td>\n",
              "            <td>0%</td>\n",
              "            <td>0%</td>\n",
              "            <td>55.1%</td>\n",
              "            <td>0%</td>\n",
              "            <td>0%</td>\n",
              "            <td>3%</td>\n",
              "            <td>3%</td>\n",
              "            <td>2.5%</td>\n",
              "            <td>41.8%</td>\n",
              "            <td>6287.4</td>\n",
              "            <td>(-0.5982, 37.653906)</td>\n",
              "            <td>5</td>\n",
              "        </tr>\n",
              "        <tr>\n",
              "            <td>Garissa</td>\n",
              "            <td>0%</td>\n",
              "            <td>37.1%</td>\n",
              "            <td>0%</td>\n",
              "            <td>0%</td>\n",
              "            <td>0%</td>\n",
              "            <td>0%</td>\n",
              "            <td>11.3%</td>\n",
              "            <td>11.3%</td>\n",
              "            <td>51.6%</td>\n",
              "            <td>1864.1</td>\n",
              "            <td>(-0.564679, 40.408457)</td>\n",
              "            <td>6</td>\n",
              "        </tr>\n",
              "        <tr>\n",
              "            <td>Homa Bay</td>\n",
              "            <td>2.1%</td>\n",
              "            <td>0%</td>\n",
              "            <td>20.9%</td>\n",
              "            <td>6.7%</td>\n",
              "            <td>6.3%</td>\n",
              "            <td>5.2%</td>\n",
              "            <td>11.3%</td>\n",
              "            <td>9%</td>\n",
              "            <td>48.3%</td>\n",
              "            <td>23696.8</td>\n",
              "            <td>(-0.640985, 34.411083)</td>\n",
              "            <td>7</td>\n",
              "        </tr>\n",
              "        <tr>\n",
              "            <td>Isiolo</td>\n",
              "            <td>13.9%</td>\n",
              "            <td>3.3%</td>\n",
              "            <td>32.6%</td>\n",
              "            <td>38.6%</td>\n",
              "            <td>12.9%</td>\n",
              "            <td>0%</td>\n",
              "            <td>0%</td>\n",
              "            <td>2%</td>\n",
              "            <td>19.8%</td>\n",
              "            <td>2154.4</td>\n",
              "            <td>(0.949302, 38.614718)</td>\n",
              "            <td>8</td>\n",
              "        </tr>\n",
              "        <tr>\n",
              "            <td>Kajiado</td>\n",
              "            <td>0%</td>\n",
              "            <td>0%</td>\n",
              "            <td>26.9%</td>\n",
              "            <td>19%</td>\n",
              "            <td>0%</td>\n",
              "            <td>0%</td>\n",
              "            <td>27.6%</td>\n",
              "            <td>0%</td>\n",
              "            <td>45.5%</td>\n",
              "            <td>3250.3</td>\n",
              "            <td>(-2.221971, 36.980268)</td>\n",
              "            <td>9</td>\n",
              "        </tr>\n",
              "    </tbody>\n",
              "</table>"
            ]
          },
          "metadata": {},
          "execution_count": 10
        }
      ]
    },
    {
      "cell_type": "code",
      "source": [
        "# Challenge 1\n",
        "# Which county had the highest no. of registered deaf persons?\n",
        "# \n",
        "%sql SELECT county, MAX(Deaf) AS max_Deaf FROM Population;\n"
      ],
      "metadata": {
        "colab": {
          "base_uri": "https://localhost:8080/",
          "height": 94
        },
        "id": "wfxmKYEL0h87",
        "outputId": "3b377515-cee9-48a5-e577-aa8f42b16e35"
      },
      "execution_count": 17,
      "outputs": [
        {
          "output_type": "stream",
          "name": "stdout",
          "text": [
            " * sqlite://\n",
            "Done.\n"
          ]
        },
        {
          "output_type": "execute_result",
          "data": {
            "text/plain": [
              "[('Nandi', '9.1%')]"
            ],
            "text/html": [
              "<table>\n",
              "    <thead>\n",
              "        <tr>\n",
              "            <th>County</th>\n",
              "            <th>max_Deaf</th>\n",
              "        </tr>\n",
              "    </thead>\n",
              "    <tbody>\n",
              "        <tr>\n",
              "            <td>Nandi</td>\n",
              "            <td>9.1%</td>\n",
              "        </tr>\n",
              "    </tbody>\n",
              "</table>"
            ]
          },
          "metadata": {},
          "execution_count": 17
        }
      ]
    },
    {
      "cell_type": "code",
      "source": [
        "# Challenge 2\n",
        "# Which county had the highest no. of registered persons with a missing hand?\n",
        "#\n",
        "%sql SELECT County, MAX(Missing_Hand) AS max_hand FROM population;"
      ],
      "metadata": {
        "colab": {
          "base_uri": "https://localhost:8080/",
          "height": 94
        },
        "id": "pPHXqVxO1M3S",
        "outputId": "85cd5867-1a86-4eaf-db73-4aa31506c037"
      },
      "execution_count": 20,
      "outputs": [
        {
          "output_type": "stream",
          "name": "stdout",
          "text": [
            " * sqlite://\n",
            "Done.\n"
          ]
        },
        {
          "output_type": "execute_result",
          "data": {
            "text/plain": [
              "[('Kisumu', '7.6%')]"
            ],
            "text/html": [
              "<table>\n",
              "    <thead>\n",
              "        <tr>\n",
              "            <th>County</th>\n",
              "            <th>max_hand</th>\n",
              "        </tr>\n",
              "    </thead>\n",
              "    <tbody>\n",
              "        <tr>\n",
              "            <td>Kisumu</td>\n",
              "            <td>7.6%</td>\n",
              "        </tr>\n",
              "    </tbody>\n",
              "</table>"
            ]
          },
          "metadata": {},
          "execution_count": 20
        }
      ]
    },
    {
      "cell_type": "code",
      "source": [
        "# Challenge 3\n",
        "# Which county had the highest no. of registered persons with a missing foot?\n",
        "# "
      ],
      "metadata": {
        "id": "kopVKl6m2P8M"
      },
      "execution_count": null,
      "outputs": []
    },
    {
      "cell_type": "code",
      "source": [
        "%sql SELECT County, MAX(Missing_Foot) AS max_foot FROM population;"
      ],
      "metadata": {
        "colab": {
          "base_uri": "https://localhost:8080/",
          "height": 94
        },
        "id": "utdPdEc125aZ",
        "outputId": "81e917bb-8ee8-4b35-b9d5-031e2306874e"
      },
      "execution_count": 19,
      "outputs": [
        {
          "output_type": "stream",
          "name": "stdout",
          "text": [
            " * sqlite://\n",
            "Done.\n"
          ]
        },
        {
          "output_type": "execute_result",
          "data": {
            "text/plain": [
              "[('Marsabit', '9.7%')]"
            ],
            "text/html": [
              "<table>\n",
              "    <thead>\n",
              "        <tr>\n",
              "            <th>County</th>\n",
              "            <th>max_foot</th>\n",
              "        </tr>\n",
              "    </thead>\n",
              "    <tbody>\n",
              "        <tr>\n",
              "            <td>Marsabit</td>\n",
              "            <td>9.7%</td>\n",
              "        </tr>\n",
              "    </tbody>\n",
              "</table>"
            ]
          },
          "metadata": {},
          "execution_count": 19
        }
      ]
    },
    {
      "cell_type": "code",
      "source": [
        "# Challenge 4\n",
        "# Which county had the highest no. of registered lame persons?\n",
        "# "
      ],
      "metadata": {
        "id": "8J5wmWqE2VPZ"
      },
      "execution_count": null,
      "outputs": []
    },
    {
      "cell_type": "code",
      "source": [
        "%sql SELECT County, MAX(Lame) AS max_lame FROM population;"
      ],
      "metadata": {
        "colab": {
          "base_uri": "https://localhost:8080/",
          "height": 94
        },
        "id": "zluDgnxf4IWb",
        "outputId": "3576dc60-7aad-42e8-fb47-27acc3a1716b"
      },
      "execution_count": 21,
      "outputs": [
        {
          "output_type": "stream",
          "name": "stdout",
          "text": [
            " * sqlite://\n",
            "Done.\n"
          ]
        },
        {
          "output_type": "execute_result",
          "data": {
            "text/plain": [
              "[('Mombasa', '9.3%')]"
            ],
            "text/html": [
              "<table>\n",
              "    <thead>\n",
              "        <tr>\n",
              "            <th>County</th>\n",
              "            <th>max_lame</th>\n",
              "        </tr>\n",
              "    </thead>\n",
              "    <tbody>\n",
              "        <tr>\n",
              "            <td>Mombasa</td>\n",
              "            <td>9.3%</td>\n",
              "        </tr>\n",
              "    </tbody>\n",
              "</table>"
            ]
          },
          "metadata": {},
          "execution_count": 21
        }
      ]
    },
    {
      "cell_type": "code",
      "source": [
        "# Challenge 5\n",
        "# Which county had the lowest no. of registered blind persons?\n",
        "# \n",
        "%sql SELECT County, Min(Blind)  FROM population;"
      ],
      "metadata": {
        "colab": {
          "base_uri": "https://localhost:8080/",
          "height": 94
        },
        "id": "U-IaD7dM2VKi",
        "outputId": "ae6e0a50-668a-422c-e879-b9f6a8bc2bb4"
      },
      "execution_count": 22,
      "outputs": [
        {
          "output_type": "stream",
          "name": "stdout",
          "text": [
            " * sqlite://\n",
            "Done.\n"
          ]
        },
        {
          "output_type": "execute_result",
          "data": {
            "text/plain": [
              "[('Bungoma', '0%')]"
            ],
            "text/html": [
              "<table>\n",
              "    <thead>\n",
              "        <tr>\n",
              "            <th>County</th>\n",
              "            <th>Min(Blind)</th>\n",
              "        </tr>\n",
              "    </thead>\n",
              "    <tbody>\n",
              "        <tr>\n",
              "            <td>Bungoma</td>\n",
              "            <td>0%</td>\n",
              "        </tr>\n",
              "    </tbody>\n",
              "</table>"
            ]
          },
          "metadata": {},
          "execution_count": 22
        }
      ]
    },
    {
      "cell_type": "code",
      "source": [
        "# Challenge 6\n",
        "# Which county had the highest third no. of registered deaf persons?\n",
        "# \n",
        "%sql SELECT County, Max(Deaf)  FROM population Group by Deaf order by Deaf Desc ;"
      ],
      "metadata": {
        "colab": {
          "base_uri": "https://localhost:8080/",
          "height": 671
        },
        "id": "HSu1Aw1x2U_u",
        "outputId": "5e8709d7-f26e-4957-a623-6f2fde45b024"
      },
      "execution_count": 26,
      "outputs": [
        {
          "output_type": "stream",
          "name": "stdout",
          "text": [
            " * sqlite://\n",
            "Done.\n"
          ]
        },
        {
          "output_type": "execute_result",
          "data": {
            "text/plain": [
              "[('Nandi', '9.1%'),\n",
              " ('Bomet', '8.1%'),\n",
              " ('Wajir', '8%'),\n",
              " ('Turkana', '7.8%'),\n",
              " ('Homa Bay', '6.3%'),\n",
              " ('Nyamira', '50.2%'),\n",
              " ('Kenya average', '5.9%'),\n",
              " ('Makueni', '4.7%'),\n",
              " ('Busia', '4.6%'),\n",
              " ('Migori', '4%'),\n",
              " ('Elgeyo Marakwet', '35.7%'),\n",
              " ('Tharaka Nithi', '29.3%'),\n",
              " ('Nyandarua', '27.9%'),\n",
              " ('Mandera', '25.9%'),\n",
              " ('Nyeri', '25.1%'),\n",
              " ('Bungoma', '2.3%'),\n",
              " ('Marsabit', '18.8%'),\n",
              " ('Nairobi', '17.5%'),\n",
              " (\"Murang'a\", '17.2%'),\n",
              " ('Tana River', '16.2%'),\n",
              " ('Kilifi', '13.8%'),\n",
              " ('Isiolo', '12.9%'),\n",
              " ('Vihiga', '12.7%'),\n",
              " ('Narok', '12.2%'),\n",
              " ('Samburu', '10.3%'),\n",
              " ('Kisii', '10.2%'),\n",
              " ('Baringo', '1%'),\n",
              " ('Kakamega', '0.5%'),\n",
              " ('Embu', '0%')]"
            ],
            "text/html": [
              "<table>\n",
              "    <thead>\n",
              "        <tr>\n",
              "            <th>County</th>\n",
              "            <th>Max(Deaf)</th>\n",
              "        </tr>\n",
              "    </thead>\n",
              "    <tbody>\n",
              "        <tr>\n",
              "            <td>Nandi</td>\n",
              "            <td>9.1%</td>\n",
              "        </tr>\n",
              "        <tr>\n",
              "            <td>Bomet</td>\n",
              "            <td>8.1%</td>\n",
              "        </tr>\n",
              "        <tr>\n",
              "            <td>Wajir</td>\n",
              "            <td>8%</td>\n",
              "        </tr>\n",
              "        <tr>\n",
              "            <td>Turkana</td>\n",
              "            <td>7.8%</td>\n",
              "        </tr>\n",
              "        <tr>\n",
              "            <td>Homa Bay</td>\n",
              "            <td>6.3%</td>\n",
              "        </tr>\n",
              "        <tr>\n",
              "            <td>Nyamira</td>\n",
              "            <td>50.2%</td>\n",
              "        </tr>\n",
              "        <tr>\n",
              "            <td>Kenya average</td>\n",
              "            <td>5.9%</td>\n",
              "        </tr>\n",
              "        <tr>\n",
              "            <td>Makueni</td>\n",
              "            <td>4.7%</td>\n",
              "        </tr>\n",
              "        <tr>\n",
              "            <td>Busia</td>\n",
              "            <td>4.6%</td>\n",
              "        </tr>\n",
              "        <tr>\n",
              "            <td>Migori</td>\n",
              "            <td>4%</td>\n",
              "        </tr>\n",
              "        <tr>\n",
              "            <td>Elgeyo Marakwet</td>\n",
              "            <td>35.7%</td>\n",
              "        </tr>\n",
              "        <tr>\n",
              "            <td>Tharaka Nithi</td>\n",
              "            <td>29.3%</td>\n",
              "        </tr>\n",
              "        <tr>\n",
              "            <td>Nyandarua</td>\n",
              "            <td>27.9%</td>\n",
              "        </tr>\n",
              "        <tr>\n",
              "            <td>Mandera</td>\n",
              "            <td>25.9%</td>\n",
              "        </tr>\n",
              "        <tr>\n",
              "            <td>Nyeri</td>\n",
              "            <td>25.1%</td>\n",
              "        </tr>\n",
              "        <tr>\n",
              "            <td>Bungoma</td>\n",
              "            <td>2.3%</td>\n",
              "        </tr>\n",
              "        <tr>\n",
              "            <td>Marsabit</td>\n",
              "            <td>18.8%</td>\n",
              "        </tr>\n",
              "        <tr>\n",
              "            <td>Nairobi</td>\n",
              "            <td>17.5%</td>\n",
              "        </tr>\n",
              "        <tr>\n",
              "            <td>Murang&#x27;a</td>\n",
              "            <td>17.2%</td>\n",
              "        </tr>\n",
              "        <tr>\n",
              "            <td>Tana River</td>\n",
              "            <td>16.2%</td>\n",
              "        </tr>\n",
              "        <tr>\n",
              "            <td>Kilifi</td>\n",
              "            <td>13.8%</td>\n",
              "        </tr>\n",
              "        <tr>\n",
              "            <td>Isiolo</td>\n",
              "            <td>12.9%</td>\n",
              "        </tr>\n",
              "        <tr>\n",
              "            <td>Vihiga</td>\n",
              "            <td>12.7%</td>\n",
              "        </tr>\n",
              "        <tr>\n",
              "            <td>Narok</td>\n",
              "            <td>12.2%</td>\n",
              "        </tr>\n",
              "        <tr>\n",
              "            <td>Samburu</td>\n",
              "            <td>10.3%</td>\n",
              "        </tr>\n",
              "        <tr>\n",
              "            <td>Kisii</td>\n",
              "            <td>10.2%</td>\n",
              "        </tr>\n",
              "        <tr>\n",
              "            <td>Baringo</td>\n",
              "            <td>1%</td>\n",
              "        </tr>\n",
              "        <tr>\n",
              "            <td>Kakamega</td>\n",
              "            <td>0.5%</td>\n",
              "        </tr>\n",
              "        <tr>\n",
              "            <td>Embu</td>\n",
              "            <td>0%</td>\n",
              "        </tr>\n",
              "    </tbody>\n",
              "</table>"
            ]
          },
          "metadata": {},
          "execution_count": 26
        }
      ]
    },
    {
      "cell_type": "code",
      "source": [
        "# Challenge 7\n",
        "# In descending order, which top 5 counties had the highest no. of registered dumb persons?\n",
        "# \n",
        "%sql SELECT County, Max(Dumb)  FROM population Group by Dumb order by Dumb DESC limit 5;"
      ],
      "metadata": {
        "colab": {
          "base_uri": "https://localhost:8080/",
          "height": 177
        },
        "id": "jrLNPwgU2U6-",
        "outputId": "355cbe6e-a9e0-4088-dfab-0a544874ebf5"
      },
      "execution_count": 29,
      "outputs": [
        {
          "output_type": "stream",
          "name": "stdout",
          "text": [
            " * sqlite://\n",
            "Done.\n"
          ]
        },
        {
          "output_type": "execute_result",
          "data": {
            "text/plain": [
              "[('Nyeri', '9.8%'),\n",
              " ('Marsabit', '9.6%'),\n",
              " ('Makueni', '9.2%'),\n",
              " ('Kenya average', '9%'),\n",
              " ('Nakuru', '8.4%')]"
            ],
            "text/html": [
              "<table>\n",
              "    <thead>\n",
              "        <tr>\n",
              "            <th>County</th>\n",
              "            <th>Max(Dumb)</th>\n",
              "        </tr>\n",
              "    </thead>\n",
              "    <tbody>\n",
              "        <tr>\n",
              "            <td>Nyeri</td>\n",
              "            <td>9.8%</td>\n",
              "        </tr>\n",
              "        <tr>\n",
              "            <td>Marsabit</td>\n",
              "            <td>9.6%</td>\n",
              "        </tr>\n",
              "        <tr>\n",
              "            <td>Makueni</td>\n",
              "            <td>9.2%</td>\n",
              "        </tr>\n",
              "        <tr>\n",
              "            <td>Kenya average</td>\n",
              "            <td>9%</td>\n",
              "        </tr>\n",
              "        <tr>\n",
              "            <td>Nakuru</td>\n",
              "            <td>8.4%</td>\n",
              "        </tr>\n",
              "    </tbody>\n",
              "</table>"
            ]
          },
          "metadata": {},
          "execution_count": 29
        }
      ]
    },
    {
      "cell_type": "code",
      "source": [
        "# Challenge 8\n",
        "# In ascending order, which top 5 counties had the highest no. of registered persons with a mental disability? \n",
        "# \n",
        "%sql SELECT County, Max(Mental)  FROM population Group by Mental order by Mental asc limit 5;"
      ],
      "metadata": {
        "colab": {
          "base_uri": "https://localhost:8080/",
          "height": 177
        },
        "id": "UlOFUn_C5EJa",
        "outputId": "02bfff3d-7554-42ba-ff02-f53225a5fa9d"
      },
      "execution_count": 30,
      "outputs": [
        {
          "output_type": "stream",
          "name": "stdout",
          "text": [
            " * sqlite://\n",
            "Done.\n"
          ]
        },
        {
          "output_type": "execute_result",
          "data": {
            "text/plain": [
              "[('Isiolo', '0%'),\n",
              " ('Garissa', '11.3%'),\n",
              " ('Marsabit', '11.6%'),\n",
              " ('Meru', '12.3%'),\n",
              " ('Baringo', '12.4%')]"
            ],
            "text/html": [
              "<table>\n",
              "    <thead>\n",
              "        <tr>\n",
              "            <th>County</th>\n",
              "            <th>Max(Mental)</th>\n",
              "        </tr>\n",
              "    </thead>\n",
              "    <tbody>\n",
              "        <tr>\n",
              "            <td>Isiolo</td>\n",
              "            <td>0%</td>\n",
              "        </tr>\n",
              "        <tr>\n",
              "            <td>Garissa</td>\n",
              "            <td>11.3%</td>\n",
              "        </tr>\n",
              "        <tr>\n",
              "            <td>Marsabit</td>\n",
              "            <td>11.6%</td>\n",
              "        </tr>\n",
              "        <tr>\n",
              "            <td>Meru</td>\n",
              "            <td>12.3%</td>\n",
              "        </tr>\n",
              "        <tr>\n",
              "            <td>Baringo</td>\n",
              "            <td>12.4%</td>\n",
              "        </tr>\n",
              "    </tbody>\n",
              "</table>"
            ]
          },
          "metadata": {},
          "execution_count": 30
        }
      ]
    },
    {
      "cell_type": "code",
      "source": [
        "# Challenge 9\n",
        "# Which counties had no registerd blind persons nor deaf persons?\n",
        "# \n",
        "%sql SELECT County From Population where Blind = \"0%\" and Deaf = \"0%\";"
      ],
      "metadata": {
        "colab": {
          "base_uri": "https://localhost:8080/",
          "height": 300
        },
        "id": "VPuFTl7Y5w3H",
        "outputId": "87a5b6c5-7356-4530-9140-a1c230d85195"
      },
      "execution_count": 14,
      "outputs": [
        {
          "output_type": "stream",
          "name": "stdout",
          "text": [
            " * sqlite://\n",
            "Done.\n"
          ]
        },
        {
          "output_type": "execute_result",
          "data": {
            "text/plain": [
              "[('Embu',),\n",
              " ('Garissa',),\n",
              " ('Kirinyaga',),\n",
              " ('Kisumu',),\n",
              " ('Laikipia',),\n",
              " ('Lamu',),\n",
              " ('Machakos',),\n",
              " ('Meru',),\n",
              " ('Nakuru',),\n",
              " ('Taita Taveta',),\n",
              " ('Uasin Gishu',)]"
            ],
            "text/html": [
              "<table>\n",
              "    <thead>\n",
              "        <tr>\n",
              "            <th>County</th>\n",
              "        </tr>\n",
              "    </thead>\n",
              "    <tbody>\n",
              "        <tr>\n",
              "            <td>Embu</td>\n",
              "        </tr>\n",
              "        <tr>\n",
              "            <td>Garissa</td>\n",
              "        </tr>\n",
              "        <tr>\n",
              "            <td>Kirinyaga</td>\n",
              "        </tr>\n",
              "        <tr>\n",
              "            <td>Kisumu</td>\n",
              "        </tr>\n",
              "        <tr>\n",
              "            <td>Laikipia</td>\n",
              "        </tr>\n",
              "        <tr>\n",
              "            <td>Lamu</td>\n",
              "        </tr>\n",
              "        <tr>\n",
              "            <td>Machakos</td>\n",
              "        </tr>\n",
              "        <tr>\n",
              "            <td>Meru</td>\n",
              "        </tr>\n",
              "        <tr>\n",
              "            <td>Nakuru</td>\n",
              "        </tr>\n",
              "        <tr>\n",
              "            <td>Taita Taveta</td>\n",
              "        </tr>\n",
              "        <tr>\n",
              "            <td>Uasin Gishu</td>\n",
              "        </tr>\n",
              "    </tbody>\n",
              "</table>"
            ]
          },
          "metadata": {},
          "execution_count": 14
        }
      ]
    },
    {
      "cell_type": "code",
      "source": [
        "# Challenge 10\n",
        "# Which disability was the most registered across all the counties?\n",
        "# \n",
        "%sql insert into Population (Missing_Hand,\tMissing_Foot,\tLame,\tBlind,\tDeaf,\tDumb,\tMental,\tParalyzed,\tOther) VALUES (sum(Missing_Hand),sum(Missing_Foot),sum(Lame),sum(Blind),sum(Deaf)sum(Dumb),sum(Mental),sum(Paralyzed),sum(Other));\n"
      ],
      "metadata": {
        "colab": {
          "base_uri": "https://localhost:8080/"
        },
        "id": "jYRT7p8f5wyv",
        "outputId": "a6ff378c-8205-47d9-fc06-2b08d15a7e57"
      },
      "execution_count": 44,
      "outputs": [
        {
          "output_type": "stream",
          "name": "stdout",
          "text": [
            " * sqlite://\n",
            "(sqlite3.OperationalError) near \"sum\": syntax error\n",
            "[SQL: insert into Population (Missing_Hand,\tMissing_Foot,\tLame,\tBlind,\tDeaf,\tDumb,\tMental,\tParalyzed,\tOther) VALUES (sum(Missing_Hand),sum(Missing_Foot),sum(Lame),sum(Blind),sum(Deaf)sum(Dumb),sum(Mental),sum(Paralyzed),sum(Other));]\n",
            "(Background on this error at: https://sqlalche.me/e/14/e3q8)\n"
          ]
        }
      ]
    },
    {
      "cell_type": "code",
      "source": [
        "# Challenge 11\n",
        "# Which disability was the least registered across all the counties?\n",
        "#"
      ],
      "metadata": {
        "id": "YhkTHHyC5wuJ"
      },
      "execution_count": null,
      "outputs": []
    },
    {
      "cell_type": "code",
      "source": [
        "# Challenge 12\n",
        "# What was the average no. of registered persons with a disability?\n",
        "#\n",
        "%sql SELECT AVG(Total_Count) From Population;"
      ],
      "metadata": {
        "colab": {
          "base_uri": "https://localhost:8080/",
          "height": 94
        },
        "id": "l0455lfM5_ia",
        "outputId": "8a53c165-a507-481f-aeb1-24f54db0ebd1"
      },
      "execution_count": 24,
      "outputs": [
        {
          "output_type": "stream",
          "name": "stdout",
          "text": [
            " * sqlite://\n",
            "Done.\n"
          ]
        },
        {
          "output_type": "execute_result",
          "data": {
            "text/plain": [
              "[(16774.087499999998,)]"
            ],
            "text/html": [
              "<table>\n",
              "    <thead>\n",
              "        <tr>\n",
              "            <th>AVG(Total_Count)</th>\n",
              "        </tr>\n",
              "    </thead>\n",
              "    <tbody>\n",
              "        <tr>\n",
              "            <td>16774.087499999998</td>\n",
              "        </tr>\n",
              "    </tbody>\n",
              "</table>"
            ]
          },
          "metadata": {},
          "execution_count": 24
        }
      ]
    },
    {
      "cell_type": "code",
      "source": [
        "# Challenge 13\n",
        "# Which three counties had least registered persons with disabilities?\n",
        "#"
      ],
      "metadata": {
        "id": "KyGp8ESH5_gR"
      },
      "execution_count": null,
      "outputs": []
    },
    {
      "cell_type": "code",
      "source": [
        "%sql SELECT County,min(Total_Count) FROM Population group by Total_Count order by Total_Count asc limit 3;"
      ],
      "metadata": {
        "colab": {
          "base_uri": "https://localhost:8080/",
          "height": 135
        },
        "id": "VALf26rtWcXD",
        "outputId": "36216aa1-980e-4df2-efe2-5299ecb49f1f"
      },
      "execution_count": 35,
      "outputs": [
        {
          "output_type": "stream",
          "name": "stdout",
          "text": [
            " * sqlite://\n",
            "Done.\n"
          ]
        },
        {
          "output_type": "execute_result",
          "data": {
            "text/plain": [
              "[('Tharaka Nithi', 420.1), ('Lamu', 524.9), ('Turkana', 1733.1)]"
            ],
            "text/html": [
              "<table>\n",
              "    <thead>\n",
              "        <tr>\n",
              "            <th>County</th>\n",
              "            <th>min(Total_Count)</th>\n",
              "        </tr>\n",
              "    </thead>\n",
              "    <tbody>\n",
              "        <tr>\n",
              "            <td>Tharaka Nithi</td>\n",
              "            <td>420.1</td>\n",
              "        </tr>\n",
              "        <tr>\n",
              "            <td>Lamu</td>\n",
              "            <td>524.9</td>\n",
              "        </tr>\n",
              "        <tr>\n",
              "            <td>Turkana</td>\n",
              "            <td>1733.1</td>\n",
              "        </tr>\n",
              "    </tbody>\n",
              "</table>"
            ]
          },
          "metadata": {},
          "execution_count": 35
        }
      ]
    },
    {
      "cell_type": "code",
      "source": [
        "# Challenge 14\n",
        "# What was the total no of registered persons with a disability across all counties?\n",
        "#\n",
        "%sql Select sum(Total_Count) as TOTAL From Population ;"
      ],
      "metadata": {
        "colab": {
          "base_uri": "https://localhost:8080/",
          "height": 94
        },
        "id": "sFy4yR5B5_bw",
        "outputId": "926731da-0060-4392-a956-e1e62cc71541"
      },
      "execution_count": 36,
      "outputs": [
        {
          "output_type": "stream",
          "name": "stdout",
          "text": [
            " * sqlite://\n",
            "Done.\n"
          ]
        },
        {
          "output_type": "execute_result",
          "data": {
            "text/plain": [
              "[(805156.1999999998,)]"
            ],
            "text/html": [
              "<table>\n",
              "    <thead>\n",
              "        <tr>\n",
              "            <th>TOTAL</th>\n",
              "        </tr>\n",
              "    </thead>\n",
              "    <tbody>\n",
              "        <tr>\n",
              "            <td>805156.1999999998</td>\n",
              "        </tr>\n",
              "    </tbody>\n",
              "</table>"
            ]
          },
          "metadata": {},
          "execution_count": 36
        }
      ]
    },
    {
      "cell_type": "code",
      "source": [
        "# Challenge 15 \n",
        "# Which top 3 counties has the highest no. of registered persons with a disability?\n",
        "# "
      ],
      "metadata": {
        "id": "w8cisqaz6Tow"
      },
      "execution_count": null,
      "outputs": []
    },
    {
      "cell_type": "code",
      "source": [
        " %%sql \n",
        " SELECT County From Population group by Total_Count ORDER BY Total_Count DESC LIMIT 3;"
      ],
      "metadata": {
        "colab": {
          "base_uri": "https://localhost:8080/",
          "height": 135
        },
        "id": "BycCbDdS6Wc4",
        "outputId": "eaed299b-6df9-4b8e-f8e0-3d3106404a7b"
      },
      "execution_count": 39,
      "outputs": [
        {
          "output_type": "stream",
          "name": "stdout",
          "text": [
            " * sqlite://\n",
            "Done.\n"
          ]
        },
        {
          "output_type": "execute_result",
          "data": {
            "text/plain": [
              "[('Kenya average',), ('Kakamega',), ('Homa Bay',)]"
            ],
            "text/html": [
              "<table>\n",
              "    <thead>\n",
              "        <tr>\n",
              "            <th>County</th>\n",
              "        </tr>\n",
              "    </thead>\n",
              "    <tbody>\n",
              "        <tr>\n",
              "            <td>Kenya average</td>\n",
              "        </tr>\n",
              "        <tr>\n",
              "            <td>Kakamega</td>\n",
              "        </tr>\n",
              "        <tr>\n",
              "            <td>Homa Bay</td>\n",
              "        </tr>\n",
              "    </tbody>\n",
              "</table>"
            ]
          },
          "metadata": {},
          "execution_count": 39
        }
      ]
    }
  ]
}